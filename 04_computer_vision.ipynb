{
 "cells": [
  {
   "cell_type": "code",
   "execution_count": 1,
   "metadata": {
    "collapsed": true,
    "ExecuteTime": {
     "end_time": "2023-08-21T14:20:54.728941800Z",
     "start_time": "2023-08-21T14:20:52.148711200Z"
    }
   },
   "outputs": [
    {
     "data": {
      "text/plain": "'\\ntorchvision.datasets\\ntorchvision.models\\ntorch.utils.data.Dataset\\ntorch.utils.data.DataLoader\\n'"
     },
     "execution_count": 1,
     "metadata": {},
     "output_type": "execute_result"
    }
   ],
   "source": [
    "import pandas as pd\n",
    "\n",
    "# For computer vision, I am using torchvision\n",
    "\"\"\"\n",
    "torchvision.datasets\n",
    "torchvision.models\n",
    "torch.utils.data.Dataset\n",
    "torch.utils.data.DataLoader\n",
    "\"\"\""
   ]
  },
  {
   "cell_type": "code",
   "execution_count": 2,
   "outputs": [
    {
     "data": {
      "text/plain": "('2.0.1+cpu', '0.15.2+cpu')"
     },
     "execution_count": 2,
     "metadata": {},
     "output_type": "execute_result"
    }
   ],
   "source": [
    "import torch\n",
    "from torch import nn    # neural network\n",
    "import torchvision\n",
    "from torchvision import datasets\n",
    "from torchvision import transforms\n",
    "from torchvision.transforms import ToTensor\n",
    "import matplotlib.pyplot as plt\n",
    "\n",
    "torch.__version__, torchvision.__version__"
   ],
   "metadata": {
    "collapsed": false,
    "ExecuteTime": {
     "end_time": "2023-08-21T14:21:01.019266400Z",
     "start_time": "2023-08-21T14:20:54.720881900Z"
    }
   }
  },
  {
   "cell_type": "code",
   "execution_count": 3,
   "outputs": [],
   "source": [
    "# Getting a dataset ( FashionMNIST)\n",
    "\n",
    "train_data = datasets.FashionMNIST(root='data', train=True, download=True, transform=ToTensor(), target_transform=None)\n",
    "test_data = datasets.FashionMNIST(root='data', train=False, download=True, transform=ToTensor(), target_transform=None)"
   ],
   "metadata": {
    "collapsed": false,
    "ExecuteTime": {
     "end_time": "2023-08-21T14:21:01.370312200Z",
     "start_time": "2023-08-21T14:21:01.022800400Z"
    }
   }
  },
  {
   "cell_type": "code",
   "execution_count": 4,
   "outputs": [
    {
     "data": {
      "text/plain": "(60000, 10000)"
     },
     "execution_count": 4,
     "metadata": {},
     "output_type": "execute_result"
    }
   ],
   "source": [
    "len(train_data), len(test_data)"
   ],
   "metadata": {
    "collapsed": false,
    "ExecuteTime": {
     "end_time": "2023-08-21T14:21:01.469596700Z",
     "start_time": "2023-08-21T14:21:01.379867900Z"
    }
   }
  },
  {
   "cell_type": "code",
   "execution_count": 5,
   "outputs": [
    {
     "data": {
      "text/plain": "torch.Size([10000, 28, 28])"
     },
     "execution_count": 5,
     "metadata": {},
     "output_type": "execute_result"
    }
   ],
   "source": [
    "test_data.data.shape"
   ],
   "metadata": {
    "collapsed": false,
    "ExecuteTime": {
     "end_time": "2023-08-21T14:21:01.496656600Z",
     "start_time": "2023-08-21T14:21:01.412552400Z"
    }
   }
  },
  {
   "cell_type": "code",
   "execution_count": 6,
   "outputs": [
    {
     "data": {
      "text/plain": "['T-shirt/top',\n 'Trouser',\n 'Pullover',\n 'Dress',\n 'Coat',\n 'Sandal',\n 'Shirt',\n 'Sneaker',\n 'Bag',\n 'Ankle boot']"
     },
     "execution_count": 6,
     "metadata": {},
     "output_type": "execute_result"
    }
   ],
   "source": [
    "train_data.classes"
   ],
   "metadata": {
    "collapsed": false,
    "ExecuteTime": {
     "end_time": "2023-08-21T14:21:01.499651100Z",
     "start_time": "2023-08-21T14:21:01.438255300Z"
    }
   }
  },
  {
   "cell_type": "code",
   "execution_count": 7,
   "outputs": [
    {
     "data": {
      "text/plain": "{'T-shirt/top': 0,\n 'Trouser': 1,\n 'Pullover': 2,\n 'Dress': 3,\n 'Coat': 4,\n 'Sandal': 5,\n 'Shirt': 6,\n 'Sneaker': 7,\n 'Bag': 8,\n 'Ankle boot': 9}"
     },
     "execution_count": 7,
     "metadata": {},
     "output_type": "execute_result"
    }
   ],
   "source": [
    "#Converting classes to dictionary\n",
    "\n",
    "train_data.class_to_idx"
   ],
   "metadata": {
    "collapsed": false,
    "ExecuteTime": {
     "end_time": "2023-08-21T14:21:01.520192400Z",
     "start_time": "2023-08-21T14:21:01.470499400Z"
    }
   }
  },
  {
   "cell_type": "code",
   "execution_count": 8,
   "outputs": [
    {
     "data": {
      "text/plain": "(torch.Size([1, 28, 28]), 9)"
     },
     "execution_count": 8,
     "metadata": {},
     "output_type": "execute_result"
    }
   ],
   "source": [
    "image, label = train_data[0]\n",
    "\n",
    "image.shape, label"
   ],
   "metadata": {
    "collapsed": false,
    "ExecuteTime": {
     "end_time": "2023-08-21T14:21:01.698689300Z",
     "start_time": "2023-08-21T14:21:01.478522500Z"
    }
   }
  },
  {
   "cell_type": "code",
   "execution_count": 9,
   "outputs": [
    {
     "data": {
      "text/plain": "'Ankle boot'"
     },
     "execution_count": 9,
     "metadata": {},
     "output_type": "execute_result"
    }
   ],
   "source": [
    "classes = train_data.classes\n",
    "\n",
    "classes[label]"
   ],
   "metadata": {
    "collapsed": false,
    "ExecuteTime": {
     "end_time": "2023-08-21T14:21:01.700688300Z",
     "start_time": "2023-08-21T14:21:01.524761400Z"
    }
   }
  },
  {
   "cell_type": "code",
   "execution_count": 10,
   "outputs": [
    {
     "name": "stdout",
     "output_type": "stream",
     "text": [
      "Image shape : torch.Size([1, 28, 28])\n"
     ]
    },
    {
     "data": {
      "text/plain": "Text(0.5, 1.0, 'Ankle boot')"
     },
     "execution_count": 10,
     "metadata": {},
     "output_type": "execute_result"
    },
    {
     "data": {
      "text/plain": "<Figure size 300x200 with 1 Axes>",
      "image/png": "[encoded data removed]"
     },
     "metadata": {},
     "output_type": "display_data"
    }
   ],
   "source": [
    "image, label = train_data[0]\n",
    "print(f\"Image shape : {image.shape}\")\n",
    "plt.figure(figsize=(3,2))\n",
    "plt.imshow(image.permute(1,2,0))\n",
    "plt.title(classes[label])"
   ],
   "metadata": {
    "collapsed": false,
    "ExecuteTime": {
     "end_time": "2023-08-21T14:21:01.922468500Z",
     "start_time": "2023-08-21T14:21:01.541572300Z"
    }
   }
  },
  {
   "cell_type": "code",
   "execution_count": 11,
   "outputs": [
    {
     "data": {
      "text/plain": "<matplotlib.image.AxesImage at 0x209ad3b83a0>"
     },
     "execution_count": 11,
     "metadata": {},
     "output_type": "execute_result"
    },
    {
     "data": {
      "text/plain": "<Figure size 300x200 with 1 Axes>",
      "image/png": "[encoded data removed]"
     },
     "metadata": {},
     "output_type": "display_data"
    }
   ],
   "source": [
    "plt.figure(figsize=(3,2))\n",
    "plt.imshow(image.permute(1,2,0), cmap='gray')"
   ],
   "metadata": {
    "collapsed": false,
    "ExecuteTime": {
     "end_time": "2023-08-21T14:21:02.113562900Z",
     "start_time": "2023-08-21T14:21:01.923954200Z"
    }
   }
  },
  {
   "cell_type": "code",
   "execution_count": 12,
   "outputs": [
    {
     "data": {
      "text/plain": "<Figure size 1000x700 with 16 Axes>",
      "image/png": "[encoded data removed]"
     },
     "metadata": {},
     "output_type": "display_data"
    }
   ],
   "source": [
    "torch.manual_seed(42)\n",
    "fig = plt.figure(figsize=(10,7))\n",
    "rows, cols = 4, 4\n",
    "for i in range(1, rows*cols + 1):\n",
    "    random_idx = torch.randint(0, len(train_data), size=[1]).item()\n",
    "    img, label = train_data[random_idx]\n",
    "    fig.add_subplot(rows, cols, i)\n",
    "    plt.imshow(img.permute(1,2,0), cmap='gray')\n",
    "    plt.title(classes[label])\n",
    "    plt.axis(False)"
   ],
   "metadata": {
    "collapsed": false,
    "ExecuteTime": {
     "end_time": "2023-08-21T14:21:03.177612700Z",
     "start_time": "2023-08-21T14:21:02.117569900Z"
    }
   }
  },
  {
   "cell_type": "code",
   "execution_count": 13,
   "outputs": [
    {
     "data": {
      "text/plain": "(<torch.utils.data.dataloader.DataLoader at 0x209ad84cf10>,\n <torch.utils.data.dataloader.DataLoader at 0x209ad899bd0>)"
     },
     "execution_count": 13,
     "metadata": {},
     "output_type": "execute_result"
    }
   ],
   "source": [
    "# Preparing DataLoader\n",
    "\n",
    "from torch.utils.data import DataLoader\n",
    "\n",
    "BATCH_SIZE = 32\n",
    "\n",
    "train_dataloader = DataLoader(dataset=train_data, batch_size=BATCH_SIZE, shuffle=True)\n",
    "\n",
    "test_dataloader = DataLoader(dataset=test_data, batch_size=BATCH_SIZE, shuffle=False)\n",
    "\n",
    "train_dataloader, test_dataloader"
   ],
   "metadata": {
    "collapsed": false,
    "ExecuteTime": {
     "end_time": "2023-08-21T14:21:03.189828300Z",
     "start_time": "2023-08-21T14:21:03.176063200Z"
    }
   }
  },
  {
   "cell_type": "code",
   "execution_count": 14,
   "outputs": [
    {
     "name": "stdout",
     "output_type": "stream",
     "text": [
      "Dataloaders : (<torch.utils.data.dataloader.DataLoader object at 0x00000209AD84CF10>, <torch.utils.data.dataloader.DataLoader object at 0x00000209AD899BD0>)\n",
      "Length of train_dataloader : 1875 batches of 32\n",
      "Length of test_dataloader : 313 batches of 32\n"
     ]
    }
   ],
   "source": [
    "print(f\"Dataloaders : {train_dataloader, test_dataloader}\")\n",
    "print(f\"Length of train_dataloader : {len(train_dataloader)} batches of {BATCH_SIZE}\")\n",
    "print(f\"Length of test_dataloader : {len(test_dataloader)} batches of {BATCH_SIZE}\")"
   ],
   "metadata": {
    "collapsed": false,
    "ExecuteTime": {
     "end_time": "2023-08-21T14:21:03.312721100Z",
     "start_time": "2023-08-21T14:21:03.196303300Z"
    }
   }
  },
  {
   "cell_type": "code",
   "execution_count": 15,
   "outputs": [
    {
     "data": {
      "text/plain": "(torch.Size([32, 1, 28, 28]), torch.Size([32]))"
     },
     "execution_count": 15,
     "metadata": {},
     "output_type": "execute_result"
    }
   ],
   "source": [
    "train_features_batch, train_labels_batch = next(iter(train_dataloader))\n",
    "train_features_batch.shape, train_labels_batch.shape"
   ],
   "metadata": {
    "collapsed": false,
    "ExecuteTime": {
     "end_time": "2023-08-21T14:21:03.356014Z",
     "start_time": "2023-08-21T14:21:03.242025300Z"
    }
   }
  },
  {
   "cell_type": "code",
   "execution_count": 16,
   "outputs": [
    {
     "data": {
      "text/plain": "torch.Size([32, 1, 28, 28])"
     },
     "execution_count": 16,
     "metadata": {},
     "output_type": "execute_result"
    }
   ],
   "source": [
    "test_features_batch, test_labels_batch = next(iter(test_dataloader))\n",
    "test_features_batch.shape"
   ],
   "metadata": {
    "collapsed": false,
    "ExecuteTime": {
     "end_time": "2023-08-21T14:21:03.375301500Z",
     "start_time": "2023-08-21T14:21:03.287613800Z"
    }
   }
  },
  {
   "cell_type": "code",
   "execution_count": 17,
   "outputs": [
    {
     "data": {
      "text/plain": "(-0.5, 27.5, 27.5, -0.5)"
     },
     "execution_count": 17,
     "metadata": {},
     "output_type": "execute_result"
    },
    {
     "data": {
      "text/plain": "<Figure size 500x300 with 1 Axes>",
      "image/png": "[encoded data removed]"
     },
     "metadata": {},
     "output_type": "display_data"
    }
   ],
   "source": [
    "#torch.manual_seed(42)\n",
    "random_idx = torch.randint(0, len(train_features_batch), size=[1]).item()\n",
    "img, label = train_features_batch[random_idx], train_labels_batch[random_idx]\n",
    "\n",
    "plt.figure(figsize=(5,3))\n",
    "plt.imshow(img.squeeze())\n",
    "plt.title(classes[label])\n",
    "plt.axis(False)"
   ],
   "metadata": {
    "collapsed": false,
    "ExecuteTime": {
     "end_time": "2023-08-21T14:21:03.540426400Z",
     "start_time": "2023-08-21T14:21:03.318282900Z"
    }
   }
  },
  {
   "cell_type": "code",
   "execution_count": 18,
   "outputs": [
    {
     "data": {
      "text/plain": "torch.Size([1, 784])"
     },
     "execution_count": 18,
     "metadata": {},
     "output_type": "execute_result"
    }
   ],
   "source": [
    "# Creating a baseline model\n",
    "\n",
    "flatten_model = nn.Flatten()\n",
    "\n",
    "x = train_features_batch[0]\n",
    "# x.shape = torch.Size([1, 28, 28])\n",
    "\n",
    "output = flatten_model(x)\n",
    "\n",
    "output.shape"
   ],
   "metadata": {
    "collapsed": false,
    "ExecuteTime": {
     "end_time": "2023-08-21T14:21:03.555680100Z",
     "start_time": "2023-08-21T14:21:03.492306Z"
    }
   }
  },
  {
   "cell_type": "code",
   "execution_count": 19,
   "outputs": [],
   "source": [
    "class FashionMNISTModel(nn.Module):\n",
    "    def __init__(self, input_shape : int, hidden_units : int, output_shape : int):\n",
    "        super().__init__()\n",
    "        self.layerStack = nn.Sequential(\n",
    "            nn.Flatten(),\n",
    "            nn.Linear(in_features=input_shape, out_features=hidden_units),\n",
    "            nn.Linear(in_features=hidden_units, out_features=output_shape)\n",
    "        )\n",
    "    def forward(self, x : torch.Tensor) -> torch.Tensor:\n",
    "        return self.layerStack(x)"
   ],
   "metadata": {
    "collapsed": false,
    "ExecuteTime": {
     "end_time": "2023-08-21T14:21:03.556683600Z",
     "start_time": "2023-08-21T14:21:03.524389400Z"
    }
   }
  },
  {
   "cell_type": "code",
   "execution_count": 20,
   "outputs": [
    {
     "data": {
      "text/plain": "FashionMNISTModel(\n  (layerStack): Sequential(\n    (0): Flatten(start_dim=1, end_dim=-1)\n    (1): Linear(in_features=784, out_features=10, bias=True)\n    (2): Linear(in_features=10, out_features=10, bias=True)\n  )\n)"
     },
     "execution_count": 20,
     "metadata": {},
     "output_type": "execute_result"
    }
   ],
   "source": [
    "torch.manual_seed(42)\n",
    "\n",
    "modelv0 = FashionMNISTModel(input_shape=784,hidden_units=10, output_shape=len(classes))\n",
    "\n",
    "modelv0"
   ],
   "metadata": {
    "collapsed": false,
    "ExecuteTime": {
     "end_time": "2023-08-21T14:21:03.691041900Z",
     "start_time": "2023-08-21T14:21:03.536899900Z"
    }
   }
  },
  {
   "cell_type": "code",
   "execution_count": 21,
   "outputs": [
    {
     "data": {
      "text/plain": "tensor([[-0.0315,  0.3171,  0.0531, -0.2525,  0.5959,  0.2112,  0.3233,  0.2694,\n         -0.1004,  0.0157]], grad_fn=<AddmmBackward0>)"
     },
     "execution_count": 21,
     "metadata": {},
     "output_type": "execute_result"
    }
   ],
   "source": [
    "# passing a dummy sample\n",
    "\n",
    "dummy_x = torch.rand([1,1,28,28])\n",
    "\n",
    "modelv0(dummy_x)"
   ],
   "metadata": {
    "collapsed": false,
    "ExecuteTime": {
     "end_time": "2023-08-21T14:21:03.693365400Z",
     "start_time": "2023-08-21T14:21:03.570796800Z"
    }
   }
  },
  {
   "cell_type": "code",
   "execution_count": 22,
   "outputs": [],
   "source": [
    "# Setting up loss function and optimizer\n",
    "\n",
    "from helper_functions import accuracy_fn\n",
    "\n",
    "loss_fn = nn.CrossEntropyLoss()\n",
    "\n",
    "optimizer = torch.optim.SGD(params=modelv0.parameters(), lr = 0.03)"
   ],
   "metadata": {
    "collapsed": false,
    "ExecuteTime": {
     "end_time": "2023-08-21T14:21:03.694384400Z",
     "start_time": "2023-08-21T14:21:03.631039500Z"
    }
   }
  },
  {
   "cell_type": "code",
   "execution_count": 23,
   "outputs": [],
   "source": [
    "# Setting up a timer function\n",
    "from timeit import default_timer as timer\n",
    "def print_train_time(start:float, end:float, device:torch.device=None):\n",
    "    total_time = end-start\n",
    "    print(f\"Train time  : { total_time:.3f} seconds\")\n",
    "    return total_time"
   ],
   "metadata": {
    "collapsed": false,
    "ExecuteTime": {
     "end_time": "2023-08-21T14:21:03.706961200Z",
     "start_time": "2023-08-21T14:21:03.659485700Z"
    }
   }
  },
  {
   "cell_type": "code",
   "execution_count": 24,
   "outputs": [
    {
     "name": "stdout",
     "output_type": "stream",
     "text": [
      "Train time  : 0.000 seconds\n"
     ]
    },
    {
     "data": {
      "text/plain": "3.0199997127056122e-05"
     },
     "execution_count": 24,
     "metadata": {},
     "output_type": "execute_result"
    }
   ],
   "source": [
    "# Testing the timer function\n",
    "start_time = timer()\n",
    "end_time = timer()\n",
    "print_train_time(start_time, end_time)"
   ],
   "metadata": {
    "collapsed": false,
    "ExecuteTime": {
     "end_time": "2023-08-21T14:21:03.835253600Z",
     "start_time": "2023-08-21T14:21:03.675807900Z"
    }
   }
  },
  {
   "cell_type": "code",
   "execution_count": 25,
   "outputs": [
    {
     "data": {
      "text/plain": "  0%|          | 0/10 [00:00<?, ?it/s]",
      "application/vnd.jupyter.widget-view+json": {
       "version_major": 2,
       "version_minor": 0,
       "model_id": "ea3e4f81618a4b0880da771a7d82d15a"
      }
     },
     "metadata": {},
     "output_type": "display_data"
    },
    {
     "name": "stdout",
     "output_type": "stream",
     "text": [
      "Epoch : 0\n",
      "Looked at 0/60000 samples.\n",
      "Looked at 12800/60000 samples.\n",
      "Looked at 25600/60000 samples.\n",
      "Looked at 38400/60000 samples.\n",
      "Looked at 51200/60000 samples.\n",
      "Train loss : 0.6746, test loss 0.520926, test_acc : 81.7093\n",
      "Epoch : 1\n",
      "Looked at 0/60000 samples.\n",
      "Looked at 12800/60000 samples.\n",
      "Looked at 25600/60000 samples.\n",
      "Looked at 38400/60000 samples.\n",
      "Looked at 51200/60000 samples.\n",
      "Train loss : 0.4842, test loss 0.482144, test_acc : 83.0771\n",
      "Epoch : 2\n",
      "Looked at 0/60000 samples.\n",
      "Looked at 12800/60000 samples.\n",
      "Looked at 25600/60000 samples.\n",
      "Looked at 38400/60000 samples.\n",
      "Looked at 51200/60000 samples.\n",
      "Train loss : 0.4559, test loss 0.470597, test_acc : 83.4864\n",
      "Epoch : 3\n",
      "Looked at 0/60000 samples.\n",
      "Looked at 12800/60000 samples.\n",
      "Looked at 25600/60000 samples.\n",
      "Looked at 38400/60000 samples.\n",
      "Looked at 51200/60000 samples.\n",
      "Train loss : 0.4406, test loss 0.460116, test_acc : 83.7360\n",
      "Epoch : 4\n",
      "Looked at 0/60000 samples.\n",
      "Looked at 12800/60000 samples.\n",
      "Looked at 25600/60000 samples.\n",
      "Looked at 38400/60000 samples.\n",
      "Looked at 51200/60000 samples.\n",
      "Train loss : 0.4311, test loss 0.463163, test_acc : 83.6162\n",
      "Epoch : 5\n",
      "Looked at 0/60000 samples.\n",
      "Looked at 12800/60000 samples.\n",
      "Looked at 25600/60000 samples.\n",
      "Looked at 38400/60000 samples.\n",
      "Looked at 51200/60000 samples.\n",
      "Train loss : 0.4237, test loss 0.451940, test_acc : 83.9157\n",
      "Epoch : 6\n",
      "Looked at 0/60000 samples.\n",
      "Looked at 12800/60000 samples.\n",
      "Looked at 25600/60000 samples.\n",
      "Looked at 38400/60000 samples.\n",
      "Looked at 51200/60000 samples.\n",
      "Train loss : 0.4184, test loss 0.459042, test_acc : 83.8359\n",
      "Epoch : 7\n",
      "Looked at 0/60000 samples.\n",
      "Looked at 12800/60000 samples.\n",
      "Looked at 25600/60000 samples.\n",
      "Looked at 38400/60000 samples.\n",
      "Looked at 51200/60000 samples.\n",
      "Train loss : 0.4147, test loss 0.451837, test_acc : 84.0455\n",
      "Epoch : 8\n",
      "Looked at 0/60000 samples.\n",
      "Looked at 12800/60000 samples.\n",
      "Looked at 25600/60000 samples.\n",
      "Looked at 38400/60000 samples.\n",
      "Looked at 51200/60000 samples.\n",
      "Train loss : 0.4110, test loss 0.450239, test_acc : 84.1054\n",
      "Epoch : 9\n",
      "Looked at 0/60000 samples.\n",
      "Looked at 12800/60000 samples.\n",
      "Looked at 25600/60000 samples.\n",
      "Looked at 38400/60000 samples.\n",
      "Looked at 51200/60000 samples.\n",
      "Train loss : 0.4082, test loss 0.452773, test_acc : 84.0655\n",
      "Train time  : 97.697 seconds\n"
     ]
    }
   ],
   "source": [
    "from tqdm.auto import tqdm\n",
    "\n",
    "torch.manual_seed(42)\n",
    "\n",
    "epochs = 10\n",
    "\n",
    "train_time_start = timer()\n",
    "\n",
    "for epoch in tqdm(range(epochs)):\n",
    "    print(f\"Epoch : {epoch}\")\n",
    "    train_loss = 0\n",
    "    for batch, (img,label) in enumerate(train_dataloader):\n",
    "        modelv0.train()\n",
    "        train_preds = modelv0(img)\n",
    "        loss = loss_fn(train_preds, label)\n",
    "        train_loss+=loss\n",
    "        optimizer.zero_grad()\n",
    "        loss.backward()\n",
    "        optimizer.step()\n",
    "\n",
    "        if batch % 400 == 0:\n",
    "            print(f\"Looked at {batch * len(img)}/{len(train_dataloader.dataset)} samples.\")\n",
    "\n",
    "    train_loss /= len(train_dataloader)\n",
    "    test_loss = 0\n",
    "    test_acc = 0\n",
    "    modelv0.eval()\n",
    "    with torch.inference_mode():\n",
    "        for img, label in test_dataloader:\n",
    "            test_pred = modelv0(img)\n",
    "            test_loss += loss_fn(test_pred, label)\n",
    "\n",
    "            test_acc += accuracy_fn(y_true=label, y_pred=test_pred.argmax(dim=1))\n",
    "\n",
    "        test_loss /= len(test_dataloader)\n",
    "        test_acc /= len(test_dataloader)\n",
    "\n",
    "        print(f\"Train loss : {train_loss:.4f}, test loss {test_loss:4f}, test_acc : {test_acc:.4f}\")\n",
    "train_time_end = timer()\n",
    "\n",
    "total_train_time_modelv0 = print_train_time(start=train_time_start, end=train_time_end)"
   ],
   "metadata": {
    "collapsed": false,
    "ExecuteTime": {
     "end_time": "2023-08-21T14:22:41.567693700Z",
     "start_time": "2023-08-21T14:21:03.709295100Z"
    }
   }
  },
  {
   "cell_type": "code",
   "execution_count": 26,
   "outputs": [
    {
     "data": {
      "text/plain": "{'model': 'FashionMNISTModel',\n 'loss': 0.45277267694473267,\n 'acc': 84.06549520766774}"
     },
     "execution_count": 26,
     "metadata": {},
     "output_type": "execute_result"
    }
   ],
   "source": [
    "torch.manual_seed(42)\n",
    "def eval_model(model : torch.nn.Module, data_loader : torch.utils.data.DataLoader, loss_fn : torch.nn.Module, accuracy_fn):\n",
    "    loss, acc = 0, 0\n",
    "    modelv0.eval()\n",
    "    with torch.inference_mode():\n",
    "        for X,y in data_loader:\n",
    "            test_pred = model(X)\n",
    "            loss += loss_fn(test_pred, y)\n",
    "            acc += accuracy_fn(y_true=y, y_pred = test_pred.argmax(dim=1))\n",
    "\n",
    "        loss /= len(data_loader)\n",
    "        acc /= len(data_loader)\n",
    "    return {\"model\" : model.__class__.__name__,\n",
    "            \"loss\" : loss.item(),\n",
    "            \"acc\" : acc\n",
    "            }\n",
    "\n",
    "modelv0_results = eval_model(model=modelv0, data_loader=test_dataloader,loss_fn=loss_fn, accuracy_fn=accuracy_fn)\n",
    "\n",
    "\n",
    "modelv0_results"
   ],
   "metadata": {
    "collapsed": false,
    "ExecuteTime": {
     "end_time": "2023-08-21T14:22:42.651521500Z",
     "start_time": "2023-08-21T14:22:41.572354Z"
    }
   }
  },
  {
   "cell_type": "code",
   "execution_count": 27,
   "outputs": [
    {
     "data": {
      "text/plain": "'cpu'"
     },
     "execution_count": 27,
     "metadata": {},
     "output_type": "execute_result"
    }
   ],
   "source": [
    "## Setting up device agnostic code\n",
    "\n",
    "device = 'cuda' if torch.cuda.is_available() else 'cpu'\n",
    "device"
   ],
   "metadata": {
    "collapsed": false,
    "ExecuteTime": {
     "end_time": "2023-08-21T14:22:42.666954700Z",
     "start_time": "2023-08-21T14:22:42.655525900Z"
    }
   }
  },
  {
   "cell_type": "code",
   "execution_count": 28,
   "outputs": [],
   "source": [
    "# Another model to improve the performance\n",
    "\n",
    "class FashionMNISTModel1(nn.Module):\n",
    "    def __init__(self, input_shape, output_shape, hidden_units):\n",
    "        super().__init__()\n",
    "\n",
    "        self.layer_stack = nn.Sequential(\n",
    "            nn.Flatten(),\n",
    "            nn.Linear(in_features=input_shape, out_features=hidden_units),\n",
    "            nn.ReLU(),\n",
    "            nn.Linear(in_features=hidden_units, out_features=hidden_units),\n",
    "            nn.ReLU(),\n",
    "            nn.Linear(in_features=hidden_units, out_features=output_shape)\n",
    "        )\n",
    "\n",
    "    def forward(self, x : torch.Tensor) -> torch.Tensor:\n",
    "        return self.layer_stack(x)"
   ],
   "metadata": {
    "collapsed": false,
    "ExecuteTime": {
     "end_time": "2023-08-21T14:22:42.756947200Z",
     "start_time": "2023-08-21T14:22:42.671975800Z"
    }
   }
  },
  {
   "cell_type": "code",
   "execution_count": 29,
   "outputs": [
    {
     "data": {
      "text/plain": "FashionMNISTModel1(\n  (layer_stack): Sequential(\n    (0): Flatten(start_dim=1, end_dim=-1)\n    (1): Linear(in_features=784, out_features=10, bias=True)\n    (2): ReLU()\n    (3): Linear(in_features=10, out_features=10, bias=True)\n    (4): ReLU()\n    (5): Linear(in_features=10, out_features=10, bias=True)\n  )\n)"
     },
     "execution_count": 29,
     "metadata": {},
     "output_type": "execute_result"
    }
   ],
   "source": [
    "modelv1 = FashionMNISTModel1(input_shape=784, output_shape=len(classes), hidden_units=10).to(device)\n",
    "\n",
    "modelv1"
   ],
   "metadata": {
    "collapsed": false,
    "ExecuteTime": {
     "end_time": "2023-08-21T14:22:42.764964800Z",
     "start_time": "2023-08-21T14:22:42.684973200Z"
    }
   }
  },
  {
   "cell_type": "code",
   "execution_count": 30,
   "outputs": [],
   "source": [
    "from helper_functions import accuracy_fn\n",
    "loss_fn = nn.CrossEntropyLoss()\n",
    "optimizer = torch.optim.SGD(params=modelv1.parameters(), lr = 0.1)"
   ],
   "metadata": {
    "collapsed": false,
    "ExecuteTime": {
     "end_time": "2023-08-21T14:22:42.766964500Z",
     "start_time": "2023-08-21T14:22:42.701399200Z"
    }
   }
  },
  {
   "cell_type": "code",
   "execution_count": 31,
   "outputs": [],
   "source": [
    "# Setting up training step function\n",
    "\n",
    "def train_step(model : torch.nn.Module, data_loader : torch.utils.data.DataLoader, loss_fn : torch.nn.Module, optimizer : torch.optim.Optimizer, accuracy_fn, device : torch.device = device):\n",
    "\n",
    "    train_loss = 0\n",
    "    acc = 0\n",
    "    model.train()\n",
    "    for batch, (img,label) in enumerate(data_loader):\n",
    "        train_preds = model(img)\n",
    "        loss = loss_fn(train_preds, label)\n",
    "        train_loss+=loss\n",
    "        acc+= accuracy_fn(y_true=label, y_pred=train_preds.argmax(dim=1))\n",
    "        optimizer.zero_grad()\n",
    "        loss.backward()\n",
    "        optimizer.step()\n",
    "\n",
    "        if batch % 400 == 0:\n",
    "            print(f\"Looked at {batch * len(img)}/{len(train_dataloader.dataset)} samples.\")\n",
    "\n",
    "    train_loss /= len(data_loader)\n",
    "    acc /= len(data_loader)\n",
    "\n",
    "    print(f\"Train loss : {train_loss:.4f}, train acc : {acc:2f}%\")"
   ],
   "metadata": {
    "collapsed": false,
    "ExecuteTime": {
     "end_time": "2023-08-21T14:22:42.767964100Z",
     "start_time": "2023-08-21T14:22:42.718663400Z"
    }
   }
  },
  {
   "cell_type": "code",
   "execution_count": 32,
   "outputs": [],
   "source": [
    "# Setting up a function for testing loop\n",
    "def test_step(model : torch.nn.Module, data_loader : torch.utils.data.DataLoader, loss_fn : torch.nn.Module, accuracy_fn, device : torch.device = device):\n",
    "\n",
    "    test_loss, test_acc = 0, 0\n",
    "    model.eval()\n",
    "    with torch.inference_mode():\n",
    "        for x,y in data_loader:\n",
    "            test_preds = model(x)\n",
    "            test_loss += loss_fn(test_preds, y)\n",
    "            test_acc += accuracy_fn(y_true=y, y_pred=test_preds.argmax(dim=1))\n",
    "\n",
    "        test_loss /= len(data_loader)\n",
    "        test_acc /= len(data_loader)\n",
    "\n",
    "        print(f\"Test loss : {test_loss:.3f}, test acc : {test_acc:.2f}%\")\n"
   ],
   "metadata": {
    "collapsed": false,
    "ExecuteTime": {
     "end_time": "2023-08-21T14:22:42.768959Z",
     "start_time": "2023-08-21T14:22:42.733946400Z"
    }
   }
  },
  {
   "cell_type": "code",
   "execution_count": 33,
   "outputs": [
    {
     "data": {
      "text/plain": "  0%|          | 0/10 [00:00<?, ?it/s]",
      "application/vnd.jupyter.widget-view+json": {
       "version_major": 2,
       "version_minor": 0,
       "model_id": "eaf49bf844004470acaa360b748e151d"
      }
     },
     "metadata": {},
     "output_type": "display_data"
    },
    {
     "name": "stdout",
     "output_type": "stream",
     "text": [
      "Epoch : 0\n",
      "Looked at 0/60000 samples.\n",
      "Looked at 12800/60000 samples.\n",
      "Looked at 25600/60000 samples.\n",
      "Looked at 38400/60000 samples.\n",
      "Looked at 51200/60000 samples.\n",
      "Train loss : 0.6809, train acc : 75.285000%\n",
      "Test loss : 0.508, test acc : 81.62%\n",
      "Epoch : 1\n",
      "Looked at 0/60000 samples.\n",
      "Looked at 12800/60000 samples.\n",
      "Looked at 25600/60000 samples.\n",
      "Looked at 38400/60000 samples.\n",
      "Looked at 51200/60000 samples.\n",
      "Train loss : 0.4804, train acc : 82.630000%\n",
      "Test loss : 0.499, test acc : 82.25%\n",
      "Epoch : 2\n",
      "Looked at 0/60000 samples.\n",
      "Looked at 12800/60000 samples.\n",
      "Looked at 25600/60000 samples.\n",
      "Looked at 38400/60000 samples.\n",
      "Looked at 51200/60000 samples.\n",
      "Train loss : 0.4414, train acc : 84.003333%\n",
      "Test loss : 0.457, test acc : 83.81%\n",
      "Epoch : 3\n",
      "Looked at 0/60000 samples.\n",
      "Looked at 12800/60000 samples.\n",
      "Looked at 25600/60000 samples.\n",
      "Looked at 38400/60000 samples.\n",
      "Looked at 51200/60000 samples.\n",
      "Train loss : 0.4227, train acc : 84.705000%\n",
      "Test loss : 0.474, test acc : 82.90%\n",
      "Epoch : 4\n",
      "Looked at 0/60000 samples.\n",
      "Looked at 12800/60000 samples.\n",
      "Looked at 25600/60000 samples.\n",
      "Looked at 38400/60000 samples.\n",
      "Looked at 51200/60000 samples.\n",
      "Train loss : 0.4125, train acc : 84.916667%\n",
      "Test loss : 0.459, test acc : 83.47%\n",
      "Epoch : 5\n",
      "Looked at 0/60000 samples.\n",
      "Looked at 12800/60000 samples.\n",
      "Looked at 25600/60000 samples.\n",
      "Looked at 38400/60000 samples.\n",
      "Looked at 51200/60000 samples.\n",
      "Train loss : 0.4022, train acc : 85.315000%\n",
      "Test loss : 0.483, test acc : 82.54%\n",
      "Epoch : 6\n",
      "Looked at 0/60000 samples.\n",
      "Looked at 12800/60000 samples.\n",
      "Looked at 25600/60000 samples.\n",
      "Looked at 38400/60000 samples.\n",
      "Looked at 51200/60000 samples.\n",
      "Train loss : 0.3944, train acc : 85.540000%\n",
      "Test loss : 0.469, test acc : 83.08%\n",
      "Epoch : 7\n",
      "Looked at 0/60000 samples.\n",
      "Looked at 12800/60000 samples.\n",
      "Looked at 25600/60000 samples.\n",
      "Looked at 38400/60000 samples.\n",
      "Looked at 51200/60000 samples.\n",
      "Train loss : 0.3873, train acc : 85.873333%\n",
      "Test loss : 0.437, test acc : 84.40%\n",
      "Epoch : 8\n",
      "Looked at 0/60000 samples.\n",
      "Looked at 12800/60000 samples.\n",
      "Looked at 25600/60000 samples.\n",
      "Looked at 38400/60000 samples.\n",
      "Looked at 51200/60000 samples.\n",
      "Train loss : 0.3856, train acc : 85.863333%\n",
      "Test loss : 0.444, test acc : 84.78%\n",
      "Epoch : 9\n",
      "Looked at 0/60000 samples.\n",
      "Looked at 12800/60000 samples.\n",
      "Looked at 25600/60000 samples.\n",
      "Looked at 38400/60000 samples.\n",
      "Looked at 51200/60000 samples.\n",
      "Train loss : 0.3823, train acc : 86.200000%\n",
      "Test loss : 0.429, test acc : 84.56%\n",
      "Train time  : 98.831 seconds\n"
     ]
    }
   ],
   "source": [
    "# Training and testing loop\n",
    "\n",
    "\n",
    "from timeit import default_timer as timer\n",
    "\n",
    "train_time_start = timer()\n",
    "\n",
    "epochs = 10\n",
    "\n",
    "for epoch in tqdm(range(epochs)):\n",
    "    print(f\"Epoch : {epoch}\")\n",
    "\n",
    "    train_step(model=modelv1, data_loader=train_dataloader, loss_fn=loss_fn, optimizer=optimizer, accuracy_fn=accuracy_fn, device=device)\n",
    "\n",
    "    test_step(model=modelv1, data_loader=test_dataloader, loss_fn=loss_fn, accuracy_fn=accuracy_fn, device=device)\n",
    "\n",
    "train_time_end = timer()\n",
    "\n",
    "total_train_time_modelv1 = print_train_time(start=train_time_start, end=train_time_end)\n"
   ],
   "metadata": {
    "collapsed": false,
    "ExecuteTime": {
     "end_time": "2023-08-21T14:24:21.588339300Z",
     "start_time": "2023-08-21T14:22:42.747959400Z"
    }
   }
  },
  {
   "cell_type": "code",
   "execution_count": 34,
   "outputs": [
    {
     "data": {
      "text/plain": "({'model': 'FashionMNISTModel',\n  'loss': 0.45277267694473267,\n  'acc': 84.06549520766774},\n 97.69706580042839)"
     },
     "execution_count": 34,
     "metadata": {},
     "output_type": "execute_result"
    }
   ],
   "source": [
    "modelv0_results, total_train_time_modelv0"
   ],
   "metadata": {
    "collapsed": false,
    "ExecuteTime": {
     "end_time": "2023-08-21T14:24:21.608297600Z",
     "start_time": "2023-08-21T14:24:21.596342100Z"
    }
   }
  },
  {
   "cell_type": "code",
   "execution_count": 35,
   "outputs": [
    {
     "data": {
      "text/plain": "({'model': 'FashionMNISTModel1',\n  'loss': 0.42878568172454834,\n  'acc': 84.564696485623},\n 98.83056169981137)"
     },
     "execution_count": 35,
     "metadata": {},
     "output_type": "execute_result"
    }
   ],
   "source": [
    "modelv1_results = eval_model(model=modelv1, data_loader=test_dataloader, loss_fn=loss_fn, accuracy_fn=accuracy_fn)\n",
    "\n",
    "modelv1_results, total_train_time_modelv1"
   ],
   "metadata": {
    "collapsed": false,
    "ExecuteTime": {
     "end_time": "2023-08-21T14:24:22.742557300Z",
     "start_time": "2023-08-21T14:24:21.611441400Z"
    }
   }
  },
  {
   "cell_type": "code",
   "execution_count": 36,
   "outputs": [],
   "source": [
    "# Building a Convolutional neural network\n",
    "\n",
    "class FashionMNISTModelv2(nn.Module):\n",
    "    def __init__(self, input_shape: int, hidden_untis : int, output_shape: int):\n",
    "        super().__init__()\n",
    "\n",
    "        self.conv_block_1 = nn.Sequential(\n",
    "            nn.Conv2d(in_channels=input_shape, out_channels=hidden_untis, kernel_size=3, stride=1, padding=1),\n",
    "            nn.ReLU(),\n",
    "            nn.Conv2d(in_channels=hidden_untis, out_channels=hidden_untis, kernel_size=3, stride=1, padding=1),\n",
    "            nn.ReLU(),\n",
    "            nn.MaxPool2d(kernel_size=2)\n",
    "        )\n",
    "        self.conv_block_2 = nn.Sequential(\n",
    "            nn.Conv2d(in_channels=hidden_untis, out_channels=hidden_untis, kernel_size=3, stride=1, padding=1),\n",
    "            nn.ReLU(),\n",
    "            nn.Conv2d(in_channels=hidden_untis, out_channels=hidden_untis, kernel_size=3, stride=1, padding=1),\n",
    "            nn.ReLU(),\n",
    "            nn.MaxPool2d(kernel_size=2)\n",
    "        )\n",
    "        self.classifier = nn.Sequential(\n",
    "            nn.Flatten(),\n",
    "            nn.Linear(in_features=hidden_untis*7*7, out_features=output_shape)\n",
    "        )\n",
    "\n",
    "    def forward(self, x : torch.Tensor) -> torch.Tensor :\n",
    "        x = self.conv_block_1(x)\n",
    "        #print(x.shape)\n",
    "        x = self.conv_block_2(x)\n",
    "        #print(x.shape)\n",
    "        x = self.classifier(x)\n",
    "        #print(x.shape)\n",
    "        return x"
   ],
   "metadata": {
    "collapsed": false,
    "ExecuteTime": {
     "end_time": "2023-08-21T14:24:22.758181800Z",
     "start_time": "2023-08-21T14:24:22.742557300Z"
    }
   }
  },
  {
   "cell_type": "code",
   "execution_count": 37,
   "outputs": [
    {
     "data": {
      "text/plain": "torch.Size([1, 28, 28])"
     },
     "execution_count": 37,
     "metadata": {},
     "output_type": "execute_result"
    }
   ],
   "source": [
    "image.shape"
   ],
   "metadata": {
    "collapsed": false,
    "ExecuteTime": {
     "end_time": "2023-08-21T14:24:22.821272800Z",
     "start_time": "2023-08-21T14:24:22.758181800Z"
    }
   }
  },
  {
   "cell_type": "code",
   "execution_count": 38,
   "outputs": [],
   "source": [
    "torch.manual_seed(42)\n",
    "\n",
    "modelv2 = FashionMNISTModelv2(input_shape=1, hidden_untis=10, output_shape=len(classes)).to(device)"
   ],
   "metadata": {
    "collapsed": false,
    "ExecuteTime": {
     "end_time": "2023-08-21T14:24:22.837300Z",
     "start_time": "2023-08-21T14:24:22.773811600Z"
    }
   }
  },
  {
   "cell_type": "code",
   "execution_count": 39,
   "outputs": [
    {
     "data": {
      "text/plain": "(torch.Size([32, 3, 64, 64]), torch.Size([3, 64, 64]))"
     },
     "execution_count": 39,
     "metadata": {},
     "output_type": "execute_result"
    }
   ],
   "source": [
    "# Testing\n",
    "\n",
    "torch.manual_seed(42)\n",
    "\n",
    "images = torch.randn(size=(32,3,64,64))\n",
    "\n",
    "test_image = images[0]\n",
    "\n",
    "images.shape, test_image.shape"
   ],
   "metadata": {
    "collapsed": false,
    "ExecuteTime": {
     "end_time": "2023-08-21T14:24:22.837300Z",
     "start_time": "2023-08-21T14:24:22.790925400Z"
    }
   }
  },
  {
   "cell_type": "code",
   "execution_count": 40,
   "outputs": [
    {
     "data": {
      "text/plain": "torch.Size([10, 64, 64])"
     },
     "execution_count": 40,
     "metadata": {},
     "output_type": "execute_result"
    }
   ],
   "source": [
    "conv_layer = nn.Conv2d(in_channels=3, out_channels=10, kernel_size=3, stride=1, padding=1)\n",
    "\n",
    "conv_output = conv_layer(test_image)\n",
    "conv_output.shape"
   ],
   "metadata": {
    "collapsed": false,
    "ExecuteTime": {
     "end_time": "2023-08-21T14:24:22.906288200Z",
     "start_time": "2023-08-21T14:24:22.825783200Z"
    }
   }
  },
  {
   "cell_type": "code",
   "execution_count": 41,
   "outputs": [
    {
     "name": "stdout",
     "output_type": "stream",
     "text": [
      "torch.Size([10, 64, 64])\n",
      "torch.Size([10, 32, 32])\n"
     ]
    }
   ],
   "source": [
    "max_pool_layer = nn.MaxPool2d(kernel_size=2)\n",
    "\n",
    "test_image_conv = conv_layer(test_image)\n",
    "print(test_image_conv.shape)\n",
    "\n",
    "test_image_pool = max_pool_layer(test_image_conv)\n",
    "print(test_image_pool.shape)"
   ],
   "metadata": {
    "collapsed": false,
    "ExecuteTime": {
     "end_time": "2023-08-21T14:24:22.925933700Z",
     "start_time": "2023-08-21T14:24:22.864946300Z"
    }
   }
  },
  {
   "cell_type": "code",
   "execution_count": 42,
   "outputs": [
    {
     "name": "stdout",
     "output_type": "stream",
     "text": [
      "tensor([[[[0.4963, 0.0045],\n",
      "          [0.5534, 0.1379]]]])\n"
     ]
    },
    {
     "data": {
      "text/plain": "(torch.Size([1, 1, 1, 1]), tensor([[[[0.5534]]]]))"
     },
     "execution_count": 42,
     "metadata": {},
     "output_type": "execute_result"
    }
   ],
   "source": [
    "# Creating a random tensor\n",
    "\n",
    "random_tensor = torch.randn(size=(1,1,2,2))\n",
    "max_pool_layer = nn.MaxPool2d(kernel_size=2)\n",
    "random_tensor_output = max_pool_layer(random_tensor)\n",
    "\n",
    "print(random_tensor)\n",
    "random_tensor_output.shape, random_tensor_output"
   ],
   "metadata": {
    "collapsed": false,
    "ExecuteTime": {
     "end_time": "2023-08-21T14:24:22.925933700Z",
     "start_time": "2023-08-21T14:24:22.884435900Z"
    }
   }
  },
  {
   "cell_type": "code",
   "execution_count": 43,
   "outputs": [
    {
     "data": {
      "text/plain": "torch.Size([32, 10])"
     },
     "execution_count": 43,
     "metadata": {},
     "output_type": "execute_result"
    }
   ],
   "source": [
    "# Testing model with dummy tensor\n",
    "\n",
    "dummy_tensor = torch.randn(size=(32,1,28,28))\n",
    "\n",
    "train_preds = modelv2(dummy_tensor)\n",
    "\n",
    "train_preds.shape"
   ],
   "metadata": {
    "collapsed": false,
    "ExecuteTime": {
     "end_time": "2023-08-21T14:24:23.063857200Z",
     "start_time": "2023-08-21T14:24:22.906288200Z"
    }
   }
  },
  {
   "cell_type": "code",
   "execution_count": 44,
   "outputs": [
    {
     "data": {
      "text/plain": "  0%|          | 0/10 [00:00<?, ?it/s]",
      "application/vnd.jupyter.widget-view+json": {
       "version_major": 2,
       "version_minor": 0,
       "model_id": "eff7129819cd4718bc04626181c7e1b6"
      }
     },
     "metadata": {},
     "output_type": "display_data"
    },
    {
     "name": "stdout",
     "output_type": "stream",
     "text": [
      "\n",
      "Epoch : 0\n",
      "\n",
      "Looked at 0/60000 samples.\n",
      "Looked at 12800/60000 samples.\n",
      "Looked at 25600/60000 samples.\n",
      "Looked at 38400/60000 samples.\n",
      "Looked at 51200/60000 samples.\n",
      "Train loss : 0.6694, train acc : 75.781667%\n",
      "Test loss : 0.427, test acc : 84.70%\n",
      "\n",
      "Epoch : 1\n",
      "\n",
      "Looked at 0/60000 samples.\n",
      "Looked at 12800/60000 samples.\n",
      "Looked at 25600/60000 samples.\n",
      "Looked at 38400/60000 samples.\n",
      "Looked at 51200/60000 samples.\n",
      "Train loss : 0.3631, train acc : 86.935000%\n",
      "Test loss : 0.349, test acc : 87.55%\n",
      "\n",
      "Epoch : 2\n",
      "\n",
      "Looked at 0/60000 samples.\n",
      "Looked at 12800/60000 samples.\n",
      "Looked at 25600/60000 samples.\n",
      "Looked at 38400/60000 samples.\n",
      "Looked at 51200/60000 samples.\n",
      "Train loss : 0.3246, train acc : 88.263333%\n",
      "Test loss : 0.399, test acc : 85.52%\n",
      "\n",
      "Epoch : 3\n",
      "\n",
      "Looked at 0/60000 samples.\n",
      "Looked at 12800/60000 samples.\n",
      "Looked at 25600/60000 samples.\n",
      "Looked at 38400/60000 samples.\n",
      "Looked at 51200/60000 samples.\n",
      "Train loss : 0.3050, train acc : 89.003333%\n",
      "Test loss : 0.320, test acc : 88.68%\n",
      "\n",
      "Epoch : 4\n",
      "\n",
      "Looked at 0/60000 samples.\n",
      "Looked at 12800/60000 samples.\n",
      "Looked at 25600/60000 samples.\n",
      "Looked at 38400/60000 samples.\n",
      "Looked at 51200/60000 samples.\n",
      "Train loss : 0.2921, train acc : 89.393333%\n",
      "Test loss : 0.309, test acc : 88.74%\n",
      "\n",
      "Epoch : 5\n",
      "\n",
      "Looked at 0/60000 samples.\n",
      "Looked at 12800/60000 samples.\n",
      "Looked at 25600/60000 samples.\n",
      "Looked at 38400/60000 samples.\n",
      "Looked at 51200/60000 samples.\n",
      "Train loss : 0.2826, train acc : 89.600000%\n",
      "Test loss : 0.307, test acc : 89.30%\n",
      "\n",
      "Epoch : 6\n",
      "\n",
      "Looked at 0/60000 samples.\n",
      "Looked at 12800/60000 samples.\n",
      "Looked at 25600/60000 samples.\n",
      "Looked at 38400/60000 samples.\n",
      "Looked at 51200/60000 samples.\n",
      "Train loss : 0.2744, train acc : 90.021667%\n",
      "Test loss : 0.301, test acc : 89.00%\n",
      "\n",
      "Epoch : 7\n",
      "\n",
      "Looked at 0/60000 samples.\n",
      "Looked at 12800/60000 samples.\n",
      "Looked at 25600/60000 samples.\n",
      "Looked at 38400/60000 samples.\n",
      "Looked at 51200/60000 samples.\n",
      "Train loss : 0.2669, train acc : 90.150000%\n",
      "Test loss : 0.306, test acc : 88.92%\n",
      "\n",
      "Epoch : 8\n",
      "\n",
      "Looked at 0/60000 samples.\n",
      "Looked at 12800/60000 samples.\n",
      "Looked at 25600/60000 samples.\n",
      "Looked at 38400/60000 samples.\n",
      "Looked at 51200/60000 samples.\n",
      "Train loss : 0.2594, train acc : 90.521667%\n",
      "Test loss : 0.290, test acc : 89.46%\n",
      "\n",
      "Epoch : 9\n",
      "\n",
      "Looked at 0/60000 samples.\n",
      "Looked at 12800/60000 samples.\n",
      "Looked at 25600/60000 samples.\n",
      "Looked at 38400/60000 samples.\n",
      "Looked at 51200/60000 samples.\n",
      "Train loss : 0.2541, train acc : 90.793333%\n",
      "Test loss : 0.292, test acc : 89.33%\n",
      "Train time  : 344.622 seconds\n"
     ]
    }
   ],
   "source": [
    "# Training the model fr this time\n",
    "\n",
    "loss_fn = nn.CrossEntropyLoss()\n",
    "\n",
    "optimizer = torch.optim.SGD(params=modelv2.parameters(), lr = 0.1)\n",
    "\n",
    "\n",
    "train_time_start_modelv2 = timer()\n",
    "\n",
    "epochs = 10\n",
    "\n",
    "for epoch in tqdm(range(epochs)):\n",
    "    print(f\"\\nEpoch : {epoch}\\n\")\n",
    "    train_step(model=modelv2,data_loader=train_dataloader,loss_fn=loss_fn, accuracy_fn=accuracy_fn,device=device, optimizer=optimizer)\n",
    "    test_step(model=modelv2, data_loader=test_dataloader, loss_fn=loss_fn, accuracy_fn=accuracy_fn,device=device)\n",
    "\n",
    "train_time_end_modelv2 = timer()\n",
    "\n",
    "total_train_time_modelv2 = print_train_time(start=train_time_start_modelv2,end=train_time_end_modelv2)"
   ],
   "metadata": {
    "collapsed": false,
    "ExecuteTime": {
     "end_time": "2023-08-21T14:30:07.601199100Z",
     "start_time": "2023-08-21T14:24:22.954802100Z"
    }
   }
  },
  {
   "cell_type": "code",
   "execution_count": 45,
   "outputs": [
    {
     "data": {
      "text/plain": "{'model': 'FashionMNISTModelv2',\n 'loss': 0.29158157110214233,\n 'acc': 89.3270766773163}"
     },
     "execution_count": 45,
     "metadata": {},
     "output_type": "execute_result"
    }
   ],
   "source": [
    "# modelv2 results\n",
    "\n",
    "modelv2_results = eval_model(model=modelv2, data_loader=test_dataloader, loss_fn=loss_fn, accuracy_fn=accuracy_fn)\n",
    "\n",
    "modelv2_results"
   ],
   "metadata": {
    "collapsed": false,
    "ExecuteTime": {
     "end_time": "2023-08-21T14:30:10.090410500Z",
     "start_time": "2023-08-21T14:30:07.601199100Z"
    }
   }
  },
  {
   "cell_type": "code",
   "execution_count": 46,
   "outputs": [
    {
     "data": {
      "text/plain": "{'model': 'FashionMNISTModel',\n 'loss': 0.45277267694473267,\n 'acc': 84.06549520766774}"
     },
     "execution_count": 46,
     "metadata": {},
     "output_type": "execute_result"
    }
   ],
   "source": [
    "modelv0_results"
   ],
   "metadata": {
    "collapsed": false,
    "ExecuteTime": {
     "end_time": "2023-08-21T14:30:10.109486200Z",
     "start_time": "2023-08-21T14:30:10.090410500Z"
    }
   }
  },
  {
   "cell_type": "code",
   "execution_count": 47,
   "outputs": [
    {
     "data": {
      "text/plain": "                 model      loss        acc\n0    FashionMNISTModel  0.452773  84.065495\n1   FashionMNISTModel1  0.428786  84.564696\n2  FashionMNISTModelv2  0.291582  89.327077",
      "text/html": "<div>\n<style scoped>\n    .dataframe tbody tr th:only-of-type {\n        vertical-align: middle;\n    }\n\n    .dataframe tbody tr th {\n        vertical-align: top;\n    }\n\n    .dataframe thead th {\n        text-align: right;\n    }\n</style>\n<table border=\"1\" class=\"dataframe\">\n  <thead>\n    <tr style=\"text-align: right;\">\n      <th></th>\n      <th>model</th>\n      <th>loss</th>\n      <th>acc</th>\n    </tr>\n  </thead>\n  <tbody>\n    <tr>\n      <th>0</th>\n      <td>FashionMNISTModel</td>\n      <td>0.452773</td>\n      <td>84.065495</td>\n    </tr>\n    <tr>\n      <th>1</th>\n      <td>FashionMNISTModel1</td>\n      <td>0.428786</td>\n      <td>84.564696</td>\n    </tr>\n    <tr>\n      <th>2</th>\n      <td>FashionMNISTModelv2</td>\n      <td>0.291582</td>\n      <td>89.327077</td>\n    </tr>\n  </tbody>\n</table>\n</div>"
     },
     "execution_count": 47,
     "metadata": {},
     "output_type": "execute_result"
    }
   ],
   "source": [
    "import pandas as pd\n",
    "\n",
    "cmp_results = pd.DataFrame([modelv0_results,modelv1_results,modelv2_results])\n",
    "\n",
    "cmp_results"
   ],
   "metadata": {
    "collapsed": false,
    "ExecuteTime": {
     "end_time": "2023-08-21T14:30:10.281740100Z",
     "start_time": "2023-08-21T14:30:10.110529800Z"
    }
   }
  },
  {
   "cell_type": "code",
   "execution_count": 48,
   "outputs": [
    {
     "data": {
      "text/plain": "                 model      loss        acc  training_time\n0    FashionMNISTModel  0.452773  84.065495      97.697066\n1   FashionMNISTModel1  0.428786  84.564696      98.830562\n2  FashionMNISTModelv2  0.291582  89.327077     344.621778",
      "text/html": "<div>\n<style scoped>\n    .dataframe tbody tr th:only-of-type {\n        vertical-align: middle;\n    }\n\n    .dataframe tbody tr th {\n        vertical-align: top;\n    }\n\n    .dataframe thead th {\n        text-align: right;\n    }\n</style>\n<table border=\"1\" class=\"dataframe\">\n  <thead>\n    <tr style=\"text-align: right;\">\n      <th></th>\n      <th>model</th>\n      <th>loss</th>\n      <th>acc</th>\n      <th>training_time</th>\n    </tr>\n  </thead>\n  <tbody>\n    <tr>\n      <th>0</th>\n      <td>FashionMNISTModel</td>\n      <td>0.452773</td>\n      <td>84.065495</td>\n      <td>97.697066</td>\n    </tr>\n    <tr>\n      <th>1</th>\n      <td>FashionMNISTModel1</td>\n      <td>0.428786</td>\n      <td>84.564696</td>\n      <td>98.830562</td>\n    </tr>\n    <tr>\n      <th>2</th>\n      <td>FashionMNISTModelv2</td>\n      <td>0.291582</td>\n      <td>89.327077</td>\n      <td>344.621778</td>\n    </tr>\n  </tbody>\n</table>\n</div>"
     },
     "execution_count": 48,
     "metadata": {},
     "output_type": "execute_result"
    }
   ],
   "source": [
    "cmp_results['training_time'] = [total_train_time_modelv0, total_train_time_modelv1, total_train_time_modelv2]\n",
    "\n",
    "cmp_results"
   ],
   "metadata": {
    "collapsed": false,
    "ExecuteTime": {
     "end_time": "2023-08-21T14:30:10.401647200Z",
     "start_time": "2023-08-21T14:30:10.286617300Z"
    }
   }
  },
  {
   "cell_type": "code",
   "execution_count": 49,
   "outputs": [
    {
     "data": {
      "text/plain": "Text(0, 0.5, 'model')"
     },
     "execution_count": 49,
     "metadata": {},
     "output_type": "execute_result"
    },
    {
     "data": {
      "text/plain": "<Figure size 640x480 with 1 Axes>",
      "image/png": "[encoded data removed]"
     },
     "metadata": {},
     "output_type": "display_data"
    }
   ],
   "source": [
    "# Visualizing\n",
    "\n",
    "cmp_results.set_index('model')['acc'].plot(kind='barh')\n",
    "\n",
    "plt.xlabel('accuracy ')\n",
    "plt.ylabel('model')"
   ],
   "metadata": {
    "collapsed": false,
    "ExecuteTime": {
     "end_time": "2023-08-21T14:30:10.770277400Z",
     "start_time": "2023-08-21T14:30:10.316345500Z"
    }
   }
  },
  {
   "cell_type": "code",
   "execution_count": 50,
   "outputs": [],
   "source": [
    "def make_predictions(model : torch.nn.Module, data : list, device : torch.device = device):\n",
    "\n",
    "    pred_probs = []\n",
    "    model.to(device)\n",
    "    model.eval()\n",
    "    with torch.inference_mode():\n",
    "        for sample in data:\n",
    "            sample = torch.unsqueeze(sample, dim=1).to(device)\n",
    "            pred_logits = model(sample)\n",
    "\n",
    "            pred_prob = torch.softmax(pred_logits.squeeze(), dim=0)\n",
    "\n",
    "            pred_probs.append(pred_prob.cpu())\n",
    "\n",
    "    return torch.stack(pred_probs)"
   ],
   "metadata": {
    "collapsed": false,
    "ExecuteTime": {
     "end_time": "2023-08-21T14:30:10.770277400Z",
     "start_time": "2023-08-21T14:30:10.648289700Z"
    }
   }
  },
  {
   "cell_type": "code",
   "execution_count": 51,
   "outputs": [
    {
     "data": {
      "text/plain": "Dataset FashionMNIST\n    Number of datapoints: 10000\n    Root location: data\n    Split: Test\n    StandardTransform\nTransform: ToTensor()"
     },
     "execution_count": 51,
     "metadata": {},
     "output_type": "execute_result"
    }
   ],
   "source": [
    "test_data"
   ],
   "metadata": {
    "collapsed": false,
    "ExecuteTime": {
     "end_time": "2023-08-21T14:30:10.770277400Z",
     "start_time": "2023-08-21T14:30:10.654806600Z"
    }
   }
  },
  {
   "cell_type": "code",
   "execution_count": 52,
   "outputs": [
    {
     "data": {
      "text/plain": "torchvision.datasets.mnist.FashionMNIST"
     },
     "execution_count": 52,
     "metadata": {},
     "output_type": "execute_result"
    }
   ],
   "source": [
    "type(test_data)"
   ],
   "metadata": {
    "collapsed": false,
    "ExecuteTime": {
     "end_time": "2023-08-21T14:30:10.770277400Z",
     "start_time": "2023-08-21T14:30:10.672039900Z"
    }
   }
  },
  {
   "cell_type": "code",
   "execution_count": 53,
   "outputs": [
    {
     "data": {
      "text/plain": "9"
     },
     "execution_count": 53,
     "metadata": {},
     "output_type": "execute_result"
    }
   ],
   "source": [
    "import random\n",
    "random.seed(42)\n",
    "\n",
    "test_samples = []\n",
    "test_labels = []\n",
    "for i in range(9):\n",
    "\n",
    "    random_idx = torch.randint(0, len(test_data), size=[1]).item()\n",
    "    img, label = test_data[random_idx]\n",
    "    test_samples.append(img)\n",
    "    test_labels.append(label)\n",
    "\n",
    "len(test_samples)"
   ],
   "metadata": {
    "collapsed": false,
    "ExecuteTime": {
     "end_time": "2023-08-21T14:30:10.770277400Z",
     "start_time": "2023-08-21T14:30:10.691410300Z"
    }
   }
  },
  {
   "cell_type": "code",
   "execution_count": 54,
   "outputs": [
    {
     "data": {
      "text/plain": "Dataset FashionMNIST\n    Number of datapoints: 10000\n    Root location: data\n    Split: Test\n    StandardTransform\nTransform: ToTensor()"
     },
     "execution_count": 54,
     "metadata": {},
     "output_type": "execute_result"
    }
   ],
   "source": [
    "test_data"
   ],
   "metadata": {
    "collapsed": false,
    "ExecuteTime": {
     "end_time": "2023-08-21T14:30:10.770277400Z",
     "start_time": "2023-08-21T14:30:10.706210Z"
    }
   }
  }
 ],
 "metadata": {
  "kernelspec": {
   "display_name": "Python 3",
   "language": "python",
   "name": "python3"
  },
  "language_info": {
   "codemirror_mode": {
    "name": "ipython",
    "version": 2
   },
   "file_extension": ".py",
   "mimetype": "text/x-python",
   "name": "python",
   "nbconvert_exporter": "python",
   "pygments_lexer": "ipython2",
   "version": "2.7.6"
  }
 },
 "nbformat": 4,
 "nbformat_minor": 0
}
