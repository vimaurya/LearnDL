{
 "cells": [
  {
   "cell_type": "markdown",
   "source": [
    "## Gradient Descent and Backpropagation maths explained in short through this image.\n",
    "\n",
    "![Gradient descent image](https://media.geeksforgeeks.org/wp-content/uploads/Cost-Function.jpg)"
   ],
   "metadata": {
    "collapsed": false
   }
  },
  {
   "cell_type": "code",
   "execution_count": 663,
   "metadata": {
    "collapsed": true,
    "ExecuteTime": {
     "end_time": "2023-07-28T17:15:10.666421700Z",
     "start_time": "2023-07-28T17:15:10.600861800Z"
    }
   },
   "outputs": [
    {
     "data": {
      "text/plain": "'2.0.1+cpu'"
     },
     "execution_count": 663,
     "metadata": {},
     "output_type": "execute_result"
    }
   ],
   "source": [
    "import torch\n",
    "from torch import nn # neural network\n",
    "import matplotlib.pyplot as plt\n",
    "import numpy as np\n",
    "torch.__version__"
   ]
  },
  {
   "cell_type": "code",
   "execution_count": 664,
   "outputs": [
    {
     "data": {
      "text/plain": "(tensor([[0.0000],\n         [0.0200],\n         [0.0400],\n         [0.0600],\n         [0.0800],\n         [0.1000],\n         [0.1200],\n         [0.1400],\n         [0.1600],\n         [0.1800]]),\n tensor([[0.3000],\n         [0.3140],\n         [0.3280],\n         [0.3420],\n         [0.3560],\n         [0.3700],\n         [0.3840],\n         [0.3980],\n         [0.4120],\n         [0.4260]]))"
     },
     "execution_count": 664,
     "metadata": {},
     "output_type": "execute_result"
    }
   ],
   "source": [
    "# Data, preparing and loading\n",
    "weight = 0.7\n",
    "bias = 0.3\n",
    "\n",
    "start = 0\n",
    "end = 1\n",
    "step = 0.02\n",
    "X = torch.arange(start,end, step).unsqueeze(dim=1)\n",
    "y = weight*X + bias\n",
    "X[:10], y[:10]"
   ],
   "metadata": {
    "collapsed": false,
    "ExecuteTime": {
     "end_time": "2023-07-28T17:15:10.667430700Z",
     "start_time": "2023-07-28T17:15:10.613669200Z"
    }
   }
  },
  {
   "cell_type": "code",
   "execution_count": 665,
   "outputs": [
    {
     "data": {
      "text/plain": "(torch.Size([50, 1]), torch.Size([50, 1]))"
     },
     "execution_count": 665,
     "metadata": {},
     "output_type": "execute_result"
    }
   ],
   "source": [
    "X.shape, y.shape"
   ],
   "metadata": {
    "collapsed": false,
    "ExecuteTime": {
     "end_time": "2023-07-28T17:15:10.675257200Z",
     "start_time": "2023-07-28T17:15:10.664398200Z"
    }
   }
  },
  {
   "cell_type": "code",
   "execution_count": 666,
   "outputs": [
    {
     "data": {
      "text/plain": "(40, 40, 10, 10)"
     },
     "execution_count": 666,
     "metadata": {},
     "output_type": "execute_result"
    }
   ],
   "source": [
    "# Creating a training and test set\n",
    "train_split = int(0.8*len(X))\n",
    "X_train, y_train = X[:train_split], y[:train_split]\n",
    "X_test, y_test = X[train_split:], y[train_split:]\n",
    "\n",
    "len(X_train), len(y_train), len(X_test), len(y_test)"
   ],
   "metadata": {
    "collapsed": false,
    "ExecuteTime": {
     "end_time": "2023-07-28T17:15:10.689859200Z",
     "start_time": "2023-07-28T17:15:10.678433500Z"
    }
   }
  },
  {
   "cell_type": "code",
   "execution_count": 667,
   "outputs": [],
   "source": [
    "# Visualize data\n",
    "def plot_predictions(train_data = X_train,\n",
    "                     train_label = y_train,\n",
    "                     test_data = X_test,\n",
    "                     test_label = y_test,\n",
    "                     predictions = None):\n",
    "\n",
    "\n",
    "    plt.figure(figsize=(5,3))\n",
    "\n",
    "    plt.scatter(train_data, train_label, c='b', s=4, label = 'Training data')\n",
    "    plt.scatter(test_data, test_label, c='g', s=4, label = 'Testing data')\n",
    "    if predictions is not None:\n",
    "        plt.scatter(test_data, predictions, c='r', s=4, label='Predictions')\n",
    "    plt.legend(prop={'size':14})"
   ],
   "metadata": {
    "collapsed": false,
    "ExecuteTime": {
     "end_time": "2023-07-28T17:15:10.793327900Z",
     "start_time": "2023-07-28T17:15:10.699461300Z"
    }
   }
  },
  {
   "cell_type": "code",
   "execution_count": 668,
   "outputs": [
    {
     "data": {
      "text/plain": "<Figure size 500x300 with 1 Axes>",
      "image/png": "[encoded data removed]"
     },
     "metadata": {},
     "output_type": "display_data"
    }
   ],
   "source": [
    "plot_predictions()"
   ],
   "metadata": {
    "collapsed": false,
    "ExecuteTime": {
     "end_time": "2023-07-28T17:15:10.958576500Z",
     "start_time": "2023-07-28T17:15:10.706503800Z"
    }
   }
  },
  {
   "cell_type": "code",
   "execution_count": 669,
   "outputs": [],
   "source": [
    "# Building model\n",
    "# Creating linear regression model class\n",
    "\n",
    "class LinearRegressionModel(nn.Module):\n",
    "\n",
    "    # nn.Module is inherited to implement neural networks\n",
    "\n",
    "    def __init__(self):\n",
    "        super().__init__()\n",
    "        self.weight = nn.Parameter(torch.randn(1,requires_grad=True, dtype=torch.float))\n",
    "        self.bias = nn.Parameter(torch.randn(1,requires_grad=True,dtype=torch.float))\n",
    "    def forward(self,x:torch.Tensor) ->torch.Tensor:\n",
    "        return self.weight * x +self.bias"
   ],
   "metadata": {
    "collapsed": false,
    "ExecuteTime": {
     "end_time": "2023-07-28T17:15:11.011751Z",
     "start_time": "2023-07-28T17:15:10.960751800Z"
    }
   }
  },
  {
   "cell_type": "markdown",
   "source": [
    "### PyTorch model building essentials\n",
    "* torch.nn - contains all the buildings for computational graphs\n",
    "* torch.nn.Parameter - what parameters should our model try and learn\n",
    "* torch.nn.Module - the base class for all neural network modules\n",
    "* torch.optim - this is where teh optimizers in PyTorch live"
   ],
   "metadata": {
    "collapsed": false
   }
  },
  {
   "cell_type": "code",
   "execution_count": 670,
   "outputs": [
    {
     "data": {
      "text/plain": "[Parameter containing:\n tensor([0.3367], requires_grad=True),\n Parameter containing:\n tensor([0.1288], requires_grad=True)]"
     },
     "execution_count": 670,
     "metadata": {},
     "output_type": "execute_result"
    }
   ],
   "source": [
    "# Random seed\n",
    "RANDOM_SEED = 42\n",
    "torch.manual_seed(RANDOM_SEED)\n",
    "\n",
    "# Instance of our model class\n",
    "model_0 = LinearRegressionModel()\n",
    "list(model_0.parameters())"
   ],
   "metadata": {
    "collapsed": false,
    "ExecuteTime": {
     "end_time": "2023-07-28T17:15:11.011751Z",
     "start_time": "2023-07-28T17:15:10.970820700Z"
    }
   }
  },
  {
   "cell_type": "code",
   "execution_count": 671,
   "outputs": [
    {
     "data": {
      "text/plain": "OrderedDict([('weight', tensor([0.3367])), ('bias', tensor([0.1288]))])"
     },
     "execution_count": 671,
     "metadata": {},
     "output_type": "execute_result"
    }
   ],
   "source": [
    "# Named parameters\n",
    "model_0.state_dict()"
   ],
   "metadata": {
    "collapsed": false,
    "ExecuteTime": {
     "end_time": "2023-07-28T17:15:11.023108200Z",
     "start_time": "2023-07-28T17:15:11.003486Z"
    }
   }
  },
  {
   "cell_type": "code",
   "execution_count": 672,
   "outputs": [
    {
     "data": {
      "text/plain": "tensor([[0.3982],\n        [0.4049],\n        [0.4116],\n        [0.4184],\n        [0.4251],\n        [0.4318],\n        [0.4386],\n        [0.4453],\n        [0.4520],\n        [0.4588]])"
     },
     "execution_count": 672,
     "metadata": {},
     "output_type": "execute_result"
    }
   ],
   "source": [
    "# Testing the model without training\n",
    "\n",
    "with torch.inference_mode():\n",
    "    y_pred = model_0(X_test)\n",
    "\n",
    "y_pred"
   ],
   "metadata": {
    "collapsed": false,
    "ExecuteTime": {
     "end_time": "2023-07-28T17:15:11.031850800Z",
     "start_time": "2023-07-28T17:15:11.016567200Z"
    }
   }
  },
  {
   "cell_type": "code",
   "execution_count": 673,
   "outputs": [
    {
     "data": {
      "text/plain": "<Figure size 500x300 with 1 Axes>",
      "image/png": "[encoded data removed]"
     },
     "metadata": {},
     "output_type": "display_data"
    }
   ],
   "source": [
    "plot_predictions(predictions=y_pred)"
   ],
   "metadata": {
    "collapsed": false,
    "ExecuteTime": {
     "end_time": "2023-07-28T17:15:11.247558Z",
     "start_time": "2023-07-28T17:15:11.032860500Z"
    }
   }
  },
  {
   "cell_type": "code",
   "execution_count": 674,
   "outputs": [],
   "source": [
    "# Setting up loss function and optimizer\n",
    "\n",
    "loss_fn = nn.L1Loss()\n",
    "\n",
    "optimizer = torch.optim.SGD(params = model_0.parameters(), lr = 0.01)"
   ],
   "metadata": {
    "collapsed": false,
    "ExecuteTime": {
     "end_time": "2023-07-28T17:15:11.293359800Z",
     "start_time": "2023-07-28T17:15:11.252923200Z"
    }
   }
  },
  {
   "cell_type": "code",
   "execution_count": 675,
   "outputs": [
    {
     "data": {
      "text/plain": "OrderedDict([('weight', tensor([0.3367])), ('bias', tensor([0.1288]))])"
     },
     "execution_count": 675,
     "metadata": {},
     "output_type": "execute_result"
    }
   ],
   "source": [
    "model_0.state_dict()"
   ],
   "metadata": {
    "collapsed": false,
    "ExecuteTime": {
     "end_time": "2023-07-28T17:15:11.293359800Z",
     "start_time": "2023-07-28T17:15:11.266585600Z"
    }
   }
  },
  {
   "cell_type": "code",
   "execution_count": 676,
   "outputs": [
    {
     "name": "stdout",
     "output_type": "stream",
     "text": [
      "Epoch : 0, loss : 0.31288138031959534, test loss : 0.48106518387794495\n",
      "OrderedDict([('weight', tensor([0.3406])), ('bias', tensor([0.1388]))])\n",
      "Epoch : 10, loss : 0.1976713240146637, test loss : 0.3463551998138428\n",
      "OrderedDict([('weight', tensor([0.3796])), ('bias', tensor([0.2388]))])\n",
      "Epoch : 20, loss : 0.08908725529909134, test loss : 0.21729660034179688\n",
      "OrderedDict([('weight', tensor([0.4184])), ('bias', tensor([0.3333]))])\n",
      "Epoch : 30, loss : 0.053148526698350906, test loss : 0.14464017748832703\n",
      "OrderedDict([('weight', tensor([0.4512])), ('bias', tensor([0.3768]))])\n",
      "Epoch : 40, loss : 0.04543796554207802, test loss : 0.11360953003168106\n",
      "OrderedDict([('weight', tensor([0.4748])), ('bias', tensor([0.3868]))])\n",
      "Epoch : 50, loss : 0.04167863354086876, test loss : 0.09919948130846024\n",
      "OrderedDict([('weight', tensor([0.4938])), ('bias', tensor([0.3843]))])\n",
      "Epoch : 60, loss : 0.03818932920694351, test loss : 0.08886633068323135\n",
      "OrderedDict([('weight', tensor([0.5116])), ('bias', tensor([0.3788]))])\n",
      "Epoch : 70, loss : 0.03476089984178543, test loss : 0.0805937647819519\n",
      "OrderedDict([('weight', tensor([0.5288])), ('bias', tensor([0.3718]))])\n",
      "Epoch : 80, loss : 0.03132382780313492, test loss : 0.07232122868299484\n",
      "OrderedDict([('weight', tensor([0.5459])), ('bias', tensor([0.3648]))])\n",
      "Epoch : 90, loss : 0.02788739837706089, test loss : 0.06473556160926819\n",
      "OrderedDict([('weight', tensor([0.5629])), ('bias', tensor([0.3573]))])\n",
      "Epoch : 100, loss : 0.024458957836031914, test loss : 0.05646304413676262\n",
      "OrderedDict([('weight', tensor([0.5800])), ('bias', tensor([0.3503]))])\n",
      "Epoch : 110, loss : 0.021020207554101944, test loss : 0.04819049686193466\n",
      "OrderedDict([('weight', tensor([0.5972])), ('bias', tensor([0.3433]))])\n",
      "Epoch : 120, loss : 0.01758546568453312, test loss : 0.04060482233762741\n",
      "OrderedDict([('weight', tensor([0.6141])), ('bias', tensor([0.3358]))])\n",
      "Epoch : 130, loss : 0.014155393466353416, test loss : 0.03233227878808975\n",
      "OrderedDict([('weight', tensor([0.6313])), ('bias', tensor([0.3288]))])\n",
      "Epoch : 140, loss : 0.010716589167714119, test loss : 0.024059748277068138\n",
      "OrderedDict([('weight', tensor([0.6485])), ('bias', tensor([0.3218]))])\n",
      "Epoch : 150, loss : 0.0072835334576666355, test loss : 0.016474086791276932\n",
      "OrderedDict([('weight', tensor([0.6654])), ('bias', tensor([0.3143]))])\n",
      "Epoch : 160, loss : 0.0038517764769494534, test loss : 0.008201557211577892\n",
      "OrderedDict([('weight', tensor([0.6826])), ('bias', tensor([0.3073]))])\n",
      "Epoch : 170, loss : 0.008932482451200485, test loss : 0.005023092031478882\n",
      "OrderedDict([('weight', tensor([0.6951])), ('bias', tensor([0.2993]))])\n",
      "Epoch : 180, loss : 0.008932482451200485, test loss : 0.005023092031478882\n",
      "OrderedDict([('weight', tensor([0.6951])), ('bias', tensor([0.2993]))])\n",
      "Epoch : 190, loss : 0.008932482451200485, test loss : 0.005023092031478882\n",
      "OrderedDict([('weight', tensor([0.6951])), ('bias', tensor([0.2993]))])\n"
     ]
    }
   ],
   "source": [
    "# Building a training loop and testing loop\n",
    "\n",
    "RANDOM_SEED = 42\n",
    "torch.manual_seed(RANDOM_SEED)\n",
    "epochs = 200\n",
    "\n",
    "epoch_count = []\n",
    "train_loss_values = []\n",
    "test_loss_values = []\n",
    "\n",
    "for epoch in range(epochs):\n",
    "    model_0.train()\n",
    "    y_pred = model_0(X_train)\n",
    "    loss = loss_fn(y_pred,y_train)\n",
    "    optimizer.zero_grad()\n",
    "    loss.backward()\n",
    "    optimizer.step()\n",
    "\n",
    "    model_0.eval()\n",
    "    with torch.inference_mode():\n",
    "        test_pred = model_0(X_test)\n",
    "        test_loss = loss_fn(test_pred,y_test)\n",
    "\n",
    "    if epoch % 10 == 0:\n",
    "        epoch_count.append(epoch)\n",
    "        train_loss_values.append(loss)\n",
    "        test_loss_values.append(test_loss)\n",
    "\n",
    "        print(f\"Epoch : {epoch}, loss : {loss}, test loss : {test_loss}\")\n",
    "        print(model_0.state_dict())"
   ],
   "metadata": {
    "collapsed": false,
    "ExecuteTime": {
     "end_time": "2023-07-28T17:15:11.437534900Z",
     "start_time": "2023-07-28T17:15:11.285782400Z"
    }
   }
  },
  {
   "cell_type": "code",
   "execution_count": 677,
   "outputs": [
    {
     "data": {
      "text/plain": "<matplotlib.legend.Legend at 0x1d3aab94fd0>"
     },
     "execution_count": 677,
     "metadata": {},
     "output_type": "execute_result"
    },
    {
     "data": {
      "text/plain": "<Figure size 500x300 with 1 Axes>",
      "image/png": "[encoded data removed]"
     },
     "metadata": {},
     "output_type": "display_data"
    }
   ],
   "source": [
    "plt.figure(figsize=(5,3))\n",
    "plt.plot(epoch_count,np.array(torch.tensor(train_loss_values).numpy()), label=\"Train loss\")\n",
    "plt.plot(epoch_count, np.array(torch.tensor(test_loss_values).numpy()), label=\"Test loss\")\n",
    "plt.title(\"Training and test loss curves\")\n",
    "plt.ylabel('Loss')\n",
    "plt.xlabel('Epochs')\n",
    "plt.legend()"
   ],
   "metadata": {
    "collapsed": false,
    "ExecuteTime": {
     "end_time": "2023-07-28T17:15:11.639918200Z",
     "start_time": "2023-07-28T17:15:11.437534900Z"
    }
   }
  },
  {
   "cell_type": "code",
   "execution_count": 678,
   "outputs": [],
   "source": [
    "with torch.inference_mode():\n",
    "    y_pred_new = model_0(X_test)"
   ],
   "metadata": {
    "collapsed": false,
    "ExecuteTime": {
     "end_time": "2023-07-28T17:15:11.683160200Z",
     "start_time": "2023-07-28T17:15:11.637299Z"
    }
   }
  },
  {
   "cell_type": "code",
   "execution_count": 679,
   "outputs": [
    {
     "data": {
      "text/plain": "<Figure size 500x300 with 1 Axes>",
      "image/png": "[encoded data removed]"
     },
     "metadata": {},
     "output_type": "display_data"
    }
   ],
   "source": [
    "plot_predictions(predictions=y_pred_new)"
   ],
   "metadata": {
    "collapsed": false,
    "ExecuteTime": {
     "end_time": "2023-07-28T17:15:11.855246700Z",
     "start_time": "2023-07-28T17:15:11.667380800Z"
    }
   }
  },
  {
   "cell_type": "code",
   "execution_count": 682,
   "outputs": [
    {
     "name": "stdout",
     "output_type": "stream",
     "text": [
      "Saving model to : Models\\workflowPyTorch_model_0.pth, model : OrderedDict([('weight', tensor([0.6990])), ('bias', tensor([0.3093]))])\n"
     ]
    }
   ],
   "source": [
    "# Saving a model\n",
    "from pathlib import Path\n",
    "model_path = Path(\"Models\")\n",
    "model_path.mkdir(parents=True, exist_ok=True)\n",
    "\n",
    "model_name = 'workflowPyTorch_model_0.pth'\n",
    "model_save_path = model_path/model_name\n",
    "\n",
    "print(f\"Saving model to : {model_save_path}, model : {model_0.state_dict()}\")\n",
    "torch.save(obj=model_0.state_dict(), f=model_save_path)"
   ],
   "metadata": {
    "collapsed": false,
    "ExecuteTime": {
     "end_time": "2023-07-28T17:29:59.695469600Z",
     "start_time": "2023-07-28T17:29:59.669223100Z"
    }
   }
  },
  {
   "cell_type": "code",
   "execution_count": null,
   "outputs": [],
   "source": [],
   "metadata": {
    "collapsed": false
   }
  },
  {
   "cell_type": "code",
   "execution_count": null,
   "outputs": [],
   "source": [],
   "metadata": {
    "collapsed": false
   }
  }
 ],
 "metadata": {
  "kernelspec": {
   "display_name": "Python 3",
   "language": "python",
   "name": "python3"
  },
  "language_info": {
   "codemirror_mode": {
    "name": "ipython",
    "version": 2
   },
   "file_extension": ".py",
   "mimetype": "text/x-python",
   "name": "python",
   "nbconvert_exporter": "python",
   "pygments_lexer": "ipython2",
   "version": "2.7.6"
  }
 },
 "nbformat": 4,
 "nbformat_minor": 0
}
