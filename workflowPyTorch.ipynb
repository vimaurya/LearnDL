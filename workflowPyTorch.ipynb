{
 "cells": [
  {
   "cell_type": "markdown",
   "source": [
    "## Gradient Descent and Backpropagation maths explained in short through this image.\n",
    "\n",
    "![Gradient descent image](https://media.geeksforgeeks.org/wp-content/uploads/Cost-Function.jpg)"
   ],
   "metadata": {
    "collapsed": false
   }
  },
  {
   "cell_type": "code",
   "execution_count": 563,
   "metadata": {
    "collapsed": true,
    "ExecuteTime": {
     "end_time": "2023-07-28T14:32:51.302174200Z",
     "start_time": "2023-07-28T14:32:51.077983500Z"
    }
   },
   "outputs": [
    {
     "data": {
      "text/plain": "'2.0.1+cpu'"
     },
     "execution_count": 563,
     "metadata": {},
     "output_type": "execute_result"
    }
   ],
   "source": [
    "import torch\n",
    "from torch import nn # neural network\n",
    "import matplotlib.pyplot as plt\n",
    "\n",
    "torch.__version__"
   ]
  },
  {
   "cell_type": "code",
   "execution_count": 564,
   "outputs": [
    {
     "data": {
      "text/plain": "(tensor([[0.0000],\n         [0.0200],\n         [0.0400],\n         [0.0600],\n         [0.0800],\n         [0.1000],\n         [0.1200],\n         [0.1400],\n         [0.1600],\n         [0.1800]]),\n tensor([[0.3000],\n         [0.3140],\n         [0.3280],\n         [0.3420],\n         [0.3560],\n         [0.3700],\n         [0.3840],\n         [0.3980],\n         [0.4120],\n         [0.4260]]))"
     },
     "execution_count": 564,
     "metadata": {},
     "output_type": "execute_result"
    }
   ],
   "source": [
    "# Data, preparing and loading\n",
    "weight = 0.7\n",
    "bias = 0.3\n",
    "\n",
    "start = 0\n",
    "end = 1\n",
    "step = 0.02\n",
    "X = torch.arange(start,end, step).unsqueeze(dim=1)\n",
    "y = weight*X + bias\n",
    "X[:10], y[:10]"
   ],
   "metadata": {
    "collapsed": false,
    "ExecuteTime": {
     "end_time": "2023-07-28T14:32:51.302174200Z",
     "start_time": "2023-07-28T14:32:51.108454600Z"
    }
   }
  },
  {
   "cell_type": "code",
   "execution_count": 565,
   "outputs": [
    {
     "data": {
      "text/plain": "(torch.Size([50, 1]), torch.Size([50, 1]))"
     },
     "execution_count": 565,
     "metadata": {},
     "output_type": "execute_result"
    }
   ],
   "source": [
    "X.shape, y.shape"
   ],
   "metadata": {
    "collapsed": false,
    "ExecuteTime": {
     "end_time": "2023-07-28T14:32:51.302174200Z",
     "start_time": "2023-07-28T14:32:51.135684800Z"
    }
   }
  },
  {
   "cell_type": "code",
   "execution_count": 566,
   "outputs": [
    {
     "data": {
      "text/plain": "(40, 40, 10, 10)"
     },
     "execution_count": 566,
     "metadata": {},
     "output_type": "execute_result"
    }
   ],
   "source": [
    "# Creating a training and test set\n",
    "train_split = int(0.8*len(X))\n",
    "X_train, y_train = X[:train_split], y[:train_split]\n",
    "X_test, y_test = X[train_split:], y[train_split:]\n",
    "\n",
    "len(X_train), len(y_train), len(X_test), len(y_test)"
   ],
   "metadata": {
    "collapsed": false,
    "ExecuteTime": {
     "end_time": "2023-07-28T14:32:51.305615900Z",
     "start_time": "2023-07-28T14:32:51.155737400Z"
    }
   }
  },
  {
   "cell_type": "code",
   "execution_count": 567,
   "outputs": [],
   "source": [
    "# Visualize data\n",
    "def plot_predictions(train_data = X_train,\n",
    "                     train_label = y_train,\n",
    "                     test_data = X_test,\n",
    "                     test_label = y_test,\n",
    "                     predictions = None):\n",
    "\n",
    "\n",
    "    plt.figure(figsize=(5,3))\n",
    "\n",
    "    plt.scatter(train_data, train_label, c='b', s=4, label = 'Training data')\n",
    "    plt.scatter(test_data, test_label, c='g', s=4, label = 'Testing data')\n",
    "    if predictions is not None:\n",
    "        plt.scatter(test_data, predictions, c='r', s=4, label='Predictions')\n",
    "    plt.legend(prop={'size':14})"
   ],
   "metadata": {
    "collapsed": false,
    "ExecuteTime": {
     "end_time": "2023-07-28T14:32:51.321633400Z",
     "start_time": "2023-07-28T14:32:51.187420100Z"
    }
   }
  },
  {
   "cell_type": "code",
   "execution_count": 568,
   "outputs": [
    {
     "data": {
      "text/plain": "<Figure size 500x300 with 1 Axes>",
      "image/png": "[encoded data removed]"
     },
     "metadata": {},
     "output_type": "display_data"
    }
   ],
   "source": [
    "plot_predictions()"
   ],
   "metadata": {
    "collapsed": false,
    "ExecuteTime": {
     "end_time": "2023-07-28T14:32:51.600172100Z",
     "start_time": "2023-07-28T14:32:51.246988600Z"
    }
   }
  },
  {
   "cell_type": "code",
   "execution_count": 569,
   "outputs": [],
   "source": [
    "# Building model\n",
    "# Creating linear regression model class\n",
    "\n",
    "class LinearRegressionModel(nn.Module):\n",
    "\n",
    "    # nn.Module is inherited to implement neural networks\n",
    "\n",
    "    def __init__(self):\n",
    "        super().__init__()\n",
    "        self.weight = nn.Parameter(torch.randn(1,requires_grad=True, dtype=torch.float))\n",
    "        self.bias = nn.Parameter(torch.randn(1,requires_grad=True,dtype=torch.float))\n",
    "    def forward(self,x:torch.Tensor) ->torch.Tensor:\n",
    "        return self.weight * x +self.bias"
   ],
   "metadata": {
    "collapsed": false,
    "ExecuteTime": {
     "end_time": "2023-07-28T14:32:51.669316900Z",
     "start_time": "2023-07-28T14:32:51.605974900Z"
    }
   }
  },
  {
   "cell_type": "markdown",
   "source": [
    "### PyTorch model building essentials\n",
    "* torch.nn - contains all the buildings for computational graphs\n",
    "* torch.nn.Parameter - what parameters should our model try and learn\n",
    "* torch.nn.Module - the base class for all neural network modules\n",
    "* torch.optim - this is where teh optimizers in PyTorch live"
   ],
   "metadata": {
    "collapsed": false
   }
  },
  {
   "cell_type": "code",
   "execution_count": 570,
   "outputs": [
    {
     "data": {
      "text/plain": "[Parameter containing:\n tensor([0.3367], requires_grad=True),\n Parameter containing:\n tensor([0.1288], requires_grad=True)]"
     },
     "execution_count": 570,
     "metadata": {},
     "output_type": "execute_result"
    }
   ],
   "source": [
    "# Random seed\n",
    "RANDOM_SEED = 42\n",
    "torch.manual_seed(RANDOM_SEED)\n",
    "\n",
    "# Instance of our model class\n",
    "model_0 = LinearRegressionModel()\n",
    "list(model_0.parameters())"
   ],
   "metadata": {
    "collapsed": false,
    "ExecuteTime": {
     "end_time": "2023-07-28T14:32:51.669316900Z",
     "start_time": "2023-07-28T14:32:51.628811900Z"
    }
   }
  },
  {
   "cell_type": "code",
   "execution_count": 571,
   "outputs": [
    {
     "data": {
      "text/plain": "OrderedDict([('weight', tensor([0.3367])), ('bias', tensor([0.1288]))])"
     },
     "execution_count": 571,
     "metadata": {},
     "output_type": "execute_result"
    }
   ],
   "source": [
    "# Named parameters\n",
    "model_0.state_dict()"
   ],
   "metadata": {
    "collapsed": false,
    "ExecuteTime": {
     "end_time": "2023-07-28T14:32:51.685378200Z",
     "start_time": "2023-07-28T14:32:51.658374300Z"
    }
   }
  },
  {
   "cell_type": "code",
   "execution_count": 572,
   "outputs": [
    {
     "data": {
      "text/plain": "tensor([[0.3982],\n        [0.4049],\n        [0.4116],\n        [0.4184],\n        [0.4251],\n        [0.4318],\n        [0.4386],\n        [0.4453],\n        [0.4520],\n        [0.4588]])"
     },
     "execution_count": 572,
     "metadata": {},
     "output_type": "execute_result"
    }
   ],
   "source": [
    "# Testing the model without training\n",
    "\n",
    "with torch.inference_mode():\n",
    "    y_pred = model_0(X_test)\n",
    "\n",
    "y_pred"
   ],
   "metadata": {
    "collapsed": false,
    "ExecuteTime": {
     "end_time": "2023-07-28T14:32:51.820988500Z",
     "start_time": "2023-07-28T14:32:51.688952100Z"
    }
   }
  },
  {
   "cell_type": "code",
   "execution_count": 573,
   "outputs": [
    {
     "data": {
      "text/plain": "<Figure size 500x300 with 1 Axes>",
      "image/png": "[encoded data removed]"
     },
     "metadata": {},
     "output_type": "display_data"
    }
   ],
   "source": [
    "plot_predictions(predictions=y_pred)"
   ],
   "metadata": {
    "collapsed": false,
    "ExecuteTime": {
     "end_time": "2023-07-28T14:32:52.127601200Z",
     "start_time": "2023-07-28T14:32:51.715385500Z"
    }
   }
  },
  {
   "cell_type": "code",
   "execution_count": 574,
   "outputs": [],
   "source": [
    "# Setting up loss function and optimizer\n",
    "\n",
    "loss_fn = nn.L1Loss()\n",
    "\n",
    "optimizer = torch.optim.SGD(params = model_0.parameters(), lr = 0.01)"
   ],
   "metadata": {
    "collapsed": false,
    "ExecuteTime": {
     "end_time": "2023-07-28T14:32:52.206638800Z",
     "start_time": "2023-07-28T14:32:52.135870Z"
    }
   }
  },
  {
   "cell_type": "code",
   "execution_count": 575,
   "outputs": [
    {
     "data": {
      "text/plain": "OrderedDict([('weight', tensor([0.3367])), ('bias', tensor([0.1288]))])"
     },
     "execution_count": 575,
     "metadata": {},
     "output_type": "execute_result"
    }
   ],
   "source": [
    "model_0.state_dict()"
   ],
   "metadata": {
    "collapsed": false,
    "ExecuteTime": {
     "end_time": "2023-07-28T14:32:52.206638800Z",
     "start_time": "2023-07-28T14:32:52.159098800Z"
    }
   }
  },
  {
   "cell_type": "code",
   "execution_count": 580,
   "outputs": [
    {
     "name": "stdout",
     "output_type": "stream",
     "text": [
      "Epoch : 1, loss : 0.024458957836031914, test loss : 0.05646304413676262\n",
      "OrderedDict([('weight', tensor([0.5800])), ('bias', tensor([0.3503]))])\n",
      "Epoch : 11, loss : 0.021020207554101944, test loss : 0.04819049686193466\n",
      "OrderedDict([('weight', tensor([0.5972])), ('bias', tensor([0.3433]))])\n",
      "Epoch : 21, loss : 0.01758546568453312, test loss : 0.04060482233762741\n",
      "OrderedDict([('weight', tensor([0.6141])), ('bias', tensor([0.3358]))])\n",
      "Epoch : 31, loss : 0.014155393466353416, test loss : 0.03233227878808975\n",
      "OrderedDict([('weight', tensor([0.6313])), ('bias', tensor([0.3288]))])\n",
      "Epoch : 41, loss : 0.010716589167714119, test loss : 0.024059748277068138\n",
      "OrderedDict([('weight', tensor([0.6485])), ('bias', tensor([0.3218]))])\n",
      "Epoch : 51, loss : 0.0072835334576666355, test loss : 0.016474086791276932\n",
      "OrderedDict([('weight', tensor([0.6654])), ('bias', tensor([0.3143]))])\n",
      "Epoch : 61, loss : 0.0038517764769494534, test loss : 0.008201557211577892\n",
      "OrderedDict([('weight', tensor([0.6826])), ('bias', tensor([0.3073]))])\n",
      "Epoch : 71, loss : 0.008932482451200485, test loss : 0.005023092031478882\n",
      "OrderedDict([('weight', tensor([0.6951])), ('bias', tensor([0.2993]))])\n",
      "Epoch : 81, loss : 0.008932482451200485, test loss : 0.005023092031478882\n",
      "OrderedDict([('weight', tensor([0.6951])), ('bias', tensor([0.2993]))])\n",
      "Epoch : 91, loss : 0.008932482451200485, test loss : 0.005023092031478882\n",
      "OrderedDict([('weight', tensor([0.6951])), ('bias', tensor([0.2993]))])\n"
     ]
    }
   ],
   "source": [
    "# Building a training loop and testing loop\n",
    "\n",
    "RANDOM_SEED = 42\n",
    "torch.manual_seed(RANDOM_SEED)\n",
    "epochs = 100\n",
    "for epoch in range(epochs):\n",
    "    model_0.train()\n",
    "    y_pred = model_0(X_train)\n",
    "    loss = loss_fn(y_pred,y_train)\n",
    "    optimizer.zero_grad()\n",
    "    loss.backward()\n",
    "    optimizer.step()\n",
    "    model_0.eval()\n",
    "    with torch.inference_mode():\n",
    "        test_pred = model_0(X_test)\n",
    "        test_loss = loss_fn(test_pred,y_test)\n",
    "    if epoch % 10 == 0:\n",
    "        print(f\"Epoch : {epoch+1}, loss : {loss}, test loss : {test_loss}\")\n",
    "        print(model_0.state_dict())"
   ],
   "metadata": {
    "collapsed": false,
    "ExecuteTime": {
     "end_time": "2023-07-28T14:33:58.342666400Z",
     "start_time": "2023-07-28T14:33:58.256733Z"
    }
   }
  },
  {
   "cell_type": "code",
   "execution_count": 581,
   "outputs": [
    {
     "data": {
      "text/plain": "OrderedDict([('weight', tensor([0.6990])), ('bias', tensor([0.3093]))])"
     },
     "execution_count": 581,
     "metadata": {},
     "output_type": "execute_result"
    }
   ],
   "source": [
    "model_0.state_dict()"
   ],
   "metadata": {
    "collapsed": false,
    "ExecuteTime": {
     "end_time": "2023-07-28T14:34:01.564630200Z",
     "start_time": "2023-07-28T14:34:01.517550700Z"
    }
   }
  },
  {
   "cell_type": "code",
   "execution_count": 582,
   "outputs": [],
   "source": [
    "with torch.inference_mode():\n",
    "    y_pred_new = model_0(X_test)"
   ],
   "metadata": {
    "collapsed": false,
    "ExecuteTime": {
     "end_time": "2023-07-28T14:34:03.256943400Z",
     "start_time": "2023-07-28T14:34:03.230330700Z"
    }
   }
  },
  {
   "cell_type": "code",
   "execution_count": 583,
   "outputs": [
    {
     "data": {
      "text/plain": "<Figure size 500x300 with 1 Axes>",
      "image/png": "[encoded data removed]"
     },
     "metadata": {},
     "output_type": "display_data"
    }
   ],
   "source": [
    "plot_predictions(predictions=y_pred_new)"
   ],
   "metadata": {
    "collapsed": false,
    "ExecuteTime": {
     "end_time": "2023-07-28T14:34:05.977023200Z",
     "start_time": "2023-07-28T14:34:05.564837800Z"
    }
   }
  },
  {
   "cell_type": "code",
   "execution_count": 579,
   "outputs": [],
   "source": [],
   "metadata": {
    "collapsed": false,
    "ExecuteTime": {
     "end_time": "2023-07-28T14:32:52.885659300Z",
     "start_time": "2023-07-28T14:32:52.783833100Z"
    }
   }
  },
  {
   "cell_type": "code",
   "execution_count": 579,
   "outputs": [],
   "source": [],
   "metadata": {
    "collapsed": false,
    "ExecuteTime": {
     "end_time": "2023-07-28T14:32:52.885659300Z",
     "start_time": "2023-07-28T14:32:52.802330900Z"
    }
   }
  }
 ],
 "metadata": {
  "kernelspec": {
   "display_name": "Python 3",
   "language": "python",
   "name": "python3"
  },
  "language_info": {
   "codemirror_mode": {
    "name": "ipython",
    "version": 2
   },
   "file_extension": ".py",
   "mimetype": "text/x-python",
   "name": "python",
   "nbconvert_exporter": "python",
   "pygments_lexer": "ipython2",
   "version": "2.7.6"
  }
 },
 "nbformat": 4,
 "nbformat_minor": 0
}
