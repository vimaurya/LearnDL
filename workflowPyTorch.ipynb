{
 "cells": [
  {
   "cell_type": "markdown",
   "source": [
    "## Gradient Descent and Backpropagation maths explained in short through this image.\n",
    "\n",
    "![Gradient descent image](https://media.geeksforgeeks.org/wp-content/uploads/Cost-Function.jpg)"
   ],
   "metadata": {
    "collapsed": false
   }
  },
  {
   "cell_type": "code",
   "execution_count": 512,
   "metadata": {
    "collapsed": true,
    "ExecuteTime": {
     "end_time": "2023-07-28T14:19:43.608171100Z",
     "start_time": "2023-07-28T14:19:43.375768900Z"
    }
   },
   "outputs": [
    {
     "data": {
      "text/plain": "'2.0.1+cpu'"
     },
     "execution_count": 512,
     "metadata": {},
     "output_type": "execute_result"
    }
   ],
   "source": [
    "import torch\n",
    "from torch import nn # neural network\n",
    "import matplotlib.pyplot as plt\n",
    "\n",
    "torch.__version__"
   ]
  },
  {
   "cell_type": "code",
   "execution_count": 513,
   "outputs": [
    {
     "data": {
      "text/plain": "(tensor([[0.0000],\n         [0.0200],\n         [0.0400],\n         [0.0600],\n         [0.0800],\n         [0.1000],\n         [0.1200],\n         [0.1400],\n         [0.1600],\n         [0.1800]]),\n tensor([[0.3000],\n         [0.3140],\n         [0.3280],\n         [0.3420],\n         [0.3560],\n         [0.3700],\n         [0.3840],\n         [0.3980],\n         [0.4120],\n         [0.4260]]))"
     },
     "execution_count": 513,
     "metadata": {},
     "output_type": "execute_result"
    }
   ],
   "source": [
    "# Data, preparing and loading\n",
    "weight = 0.7\n",
    "bias = 0.3\n",
    "\n",
    "start = 0\n",
    "end = 1\n",
    "step = 0.02\n",
    "X = torch.arange(start,end, step).unsqueeze(dim=1)\n",
    "y = weight*X + bias\n",
    "X[:10], y[:10]"
   ],
   "metadata": {
    "collapsed": false,
    "ExecuteTime": {
     "end_time": "2023-07-28T14:19:43.611389Z",
     "start_time": "2023-07-28T14:19:43.399771500Z"
    }
   }
  },
  {
   "cell_type": "code",
   "execution_count": 514,
   "outputs": [
    {
     "data": {
      "text/plain": "(torch.Size([50, 1]), torch.Size([50, 1]))"
     },
     "execution_count": 514,
     "metadata": {},
     "output_type": "execute_result"
    }
   ],
   "source": [
    "X.shape, y.shape"
   ],
   "metadata": {
    "collapsed": false,
    "ExecuteTime": {
     "end_time": "2023-07-28T14:19:43.611389Z",
     "start_time": "2023-07-28T14:19:43.435725Z"
    }
   }
  },
  {
   "cell_type": "code",
   "execution_count": 515,
   "outputs": [
    {
     "data": {
      "text/plain": "(40, 40, 10, 10)"
     },
     "execution_count": 515,
     "metadata": {},
     "output_type": "execute_result"
    }
   ],
   "source": [
    "# Creating a training and test set\n",
    "train_split = int(0.8*len(X))\n",
    "X_train, y_train = X[:train_split], y[:train_split]\n",
    "X_test, y_test = X[train_split:], y[train_split:]\n",
    "\n",
    "len(X_train), len(y_train), len(X_test), len(y_test)"
   ],
   "metadata": {
    "collapsed": false,
    "ExecuteTime": {
     "end_time": "2023-07-28T14:19:43.628125400Z",
     "start_time": "2023-07-28T14:19:43.451180900Z"
    }
   }
  },
  {
   "cell_type": "code",
   "execution_count": 516,
   "outputs": [],
   "source": [
    "# Visualize data\n",
    "def plot_predictions(train_data = X_train,\n",
    "                     train_label = y_train,\n",
    "                     test_data = X_test,\n",
    "                     test_label = y_test,\n",
    "                     predictions = None):\n",
    "\n",
    "\n",
    "    plt.figure(figsize=(5,3))\n",
    "\n",
    "    plt.scatter(train_data, train_label, c='b', s=4, label = 'Training data')\n",
    "    plt.scatter(test_data, test_label, c='g', s=4, label = 'Testing data')\n",
    "    if predictions is not None:\n",
    "        plt.scatter(test_data, predictions, c='r', s=4, label='Predictions')\n",
    "    plt.legend(prop={'size':14})"
   ],
   "metadata": {
    "collapsed": false,
    "ExecuteTime": {
     "end_time": "2023-07-28T14:19:43.629485Z",
     "start_time": "2023-07-28T14:19:43.478978900Z"
    }
   }
  },
  {
   "cell_type": "code",
   "execution_count": 517,
   "outputs": [
    {
     "data": {
      "text/plain": "<Figure size 500x300 with 1 Axes>",
      "image/png": "[encoded data removed]"
     },
     "metadata": {},
     "output_type": "display_data"
    }
   ],
   "source": [
    "plot_predictions()"
   ],
   "metadata": {
    "collapsed": false,
    "ExecuteTime": {
     "end_time": "2023-07-28T14:19:44.785746800Z",
     "start_time": "2023-07-28T14:19:43.495327700Z"
    }
   }
  },
  {
   "cell_type": "code",
   "execution_count": 518,
   "outputs": [],
   "source": [
    "# Building model\n",
    "# Creating linear regression model class\n",
    "\n",
    "class LinearRegressionModel(nn.Module):\n",
    "\n",
    "    # nn.Module is inherited to implement neural networks\n",
    "\n",
    "    def __init__(self):\n",
    "        super().__init__()\n",
    "        self.weight = nn.Parameter(torch.randn(1,requires_grad=True, dtype=torch.float))\n",
    "        self.bias = nn.Parameter(torch.randn(1,requires_grad=True,dtype=torch.float))\n",
    "    def forward(self,x:torch.Tensor) ->torch.Tensor:\n",
    "        return self.weight * x +self.bias"
   ],
   "metadata": {
    "collapsed": false,
    "ExecuteTime": {
     "end_time": "2023-07-28T14:19:44.873087200Z",
     "start_time": "2023-07-28T14:19:44.795642400Z"
    }
   }
  },
  {
   "cell_type": "markdown",
   "source": [
    "### PyTorch model building essentials\n",
    "* torch.nn - contains all the buildings for computational graphs\n",
    "* torch.nn.Parameter - what parameters should our model try and learn\n",
    "* torch.nn.Module - the base class for all neural network modules\n",
    "* torch.optim - this is where teh optimizers in PyTorch live"
   ],
   "metadata": {
    "collapsed": false
   }
  },
  {
   "cell_type": "code",
   "execution_count": 519,
   "outputs": [
    {
     "data": {
      "text/plain": "[Parameter containing:\n tensor([0.3367], requires_grad=True),\n Parameter containing:\n tensor([0.1288], requires_grad=True)]"
     },
     "execution_count": 519,
     "metadata": {},
     "output_type": "execute_result"
    }
   ],
   "source": [
    "# Random seed\n",
    "RANDOM_SEED = 42\n",
    "torch.manual_seed(RANDOM_SEED)\n",
    "\n",
    "# Instance of our model class\n",
    "model_0 = LinearRegressionModel()\n",
    "list(model_0.parameters())"
   ],
   "metadata": {
    "collapsed": false,
    "ExecuteTime": {
     "end_time": "2023-07-28T14:19:44.885392500Z",
     "start_time": "2023-07-28T14:19:44.816502200Z"
    }
   }
  },
  {
   "cell_type": "code",
   "execution_count": 520,
   "outputs": [
    {
     "data": {
      "text/plain": "OrderedDict([('weight', tensor([0.3367])), ('bias', tensor([0.1288]))])"
     },
     "execution_count": 520,
     "metadata": {},
     "output_type": "execute_result"
    }
   ],
   "source": [
    "# Named parameters\n",
    "model_0.state_dict()"
   ],
   "metadata": {
    "collapsed": false,
    "ExecuteTime": {
     "end_time": "2023-07-28T14:19:44.885392500Z",
     "start_time": "2023-07-28T14:19:44.832543100Z"
    }
   }
  },
  {
   "cell_type": "code",
   "execution_count": 521,
   "outputs": [
    {
     "data": {
      "text/plain": "tensor([[0.3982],\n        [0.4049],\n        [0.4116],\n        [0.4184],\n        [0.4251],\n        [0.4318],\n        [0.4386],\n        [0.4453],\n        [0.4520],\n        [0.4588]])"
     },
     "execution_count": 521,
     "metadata": {},
     "output_type": "execute_result"
    }
   ],
   "source": [
    "# Testing the model without training\n",
    "\n",
    "with torch.inference_mode():\n",
    "    y_pred = model_0(X_test)\n",
    "\n",
    "y_pred"
   ],
   "metadata": {
    "collapsed": false,
    "ExecuteTime": {
     "end_time": "2023-07-28T14:19:44.886525100Z",
     "start_time": "2023-07-28T14:19:44.855570300Z"
    }
   }
  },
  {
   "cell_type": "code",
   "execution_count": 522,
   "outputs": [
    {
     "data": {
      "text/plain": "<Figure size 500x300 with 1 Axes>",
      "image/png": "[encoded data removed]"
     },
     "metadata": {},
     "output_type": "display_data"
    }
   ],
   "source": [
    "plot_predictions(predictions=y_pred)"
   ],
   "metadata": {
    "collapsed": false,
    "ExecuteTime": {
     "end_time": "2023-07-28T14:19:45.262019500Z",
     "start_time": "2023-07-28T14:19:44.879278100Z"
    }
   }
  },
  {
   "cell_type": "code",
   "execution_count": 523,
   "outputs": [],
   "source": [
    "# Setting up loss function and optimizer\n",
    "\n",
    "loss_fn = nn.L1Loss()\n",
    "\n",
    "optimizer = torch.optim.SGD(params = model_0.parameters(), lr = 0.01)"
   ],
   "metadata": {
    "collapsed": false,
    "ExecuteTime": {
     "end_time": "2023-07-28T14:19:45.279104Z",
     "start_time": "2023-07-28T14:19:45.266980400Z"
    }
   }
  },
  {
   "cell_type": "code",
   "execution_count": 524,
   "outputs": [
    {
     "data": {
      "text/plain": "OrderedDict([('weight', tensor([0.3367])), ('bias', tensor([0.1288]))])"
     },
     "execution_count": 524,
     "metadata": {},
     "output_type": "execute_result"
    }
   ],
   "source": [
    "model_0.state_dict()"
   ],
   "metadata": {
    "collapsed": false,
    "ExecuteTime": {
     "end_time": "2023-07-28T14:19:45.355669500Z",
     "start_time": "2023-07-28T14:19:45.279104Z"
    }
   }
  },
  {
   "cell_type": "code",
   "execution_count": 525,
   "outputs": [
    {
     "name": "stdout",
     "output_type": "stream",
     "text": [
      "loss : 0.31288138031959534\n",
      "OrderedDict([('weight', tensor([0.3406])), ('bias', tensor([0.1388]))])\n",
      "loss : 0.3013603389263153\n",
      "OrderedDict([('weight', tensor([0.3445])), ('bias', tensor([0.1488]))])\n",
      "loss : 0.28983935713768005\n",
      "OrderedDict([('weight', tensor([0.3484])), ('bias', tensor([0.1588]))])\n",
      "loss : 0.2783183455467224\n",
      "OrderedDict([('weight', tensor([0.3523])), ('bias', tensor([0.1688]))])\n",
      "loss : 0.26679736375808716\n",
      "OrderedDict([('weight', tensor([0.3562])), ('bias', tensor([0.1788]))])\n",
      "loss : 0.2552763521671295\n",
      "OrderedDict([('weight', tensor([0.3601])), ('bias', tensor([0.1888]))])\n",
      "loss : 0.24375534057617188\n",
      "OrderedDict([('weight', tensor([0.3640])), ('bias', tensor([0.1988]))])\n",
      "loss : 0.23223432898521423\n",
      "OrderedDict([('weight', tensor([0.3679])), ('bias', tensor([0.2088]))])\n",
      "loss : 0.22071333229541779\n",
      "OrderedDict([('weight', tensor([0.3718])), ('bias', tensor([0.2188]))])\n",
      "loss : 0.20919232070446014\n",
      "OrderedDict([('weight', tensor([0.3757])), ('bias', tensor([0.2288]))])\n",
      "loss : 0.1976713240146637\n",
      "OrderedDict([('weight', tensor([0.3796])), ('bias', tensor([0.2388]))])\n",
      "loss : 0.18615034222602844\n",
      "OrderedDict([('weight', tensor([0.3835])), ('bias', tensor([0.2488]))])\n",
      "loss : 0.1746293306350708\n",
      "OrderedDict([('weight', tensor([0.3874])), ('bias', tensor([0.2588]))])\n",
      "loss : 0.16310831904411316\n",
      "OrderedDict([('weight', tensor([0.3913])), ('bias', tensor([0.2688]))])\n",
      "loss : 0.1515873372554779\n",
      "OrderedDict([('weight', tensor([0.3952])), ('bias', tensor([0.2788]))])\n",
      "loss : 0.14006635546684265\n",
      "OrderedDict([('weight', tensor([0.3991])), ('bias', tensor([0.2888]))])\n",
      "loss : 0.1285453587770462\n",
      "OrderedDict([('weight', tensor([0.4030])), ('bias', tensor([0.2988]))])\n",
      "loss : 0.11702437698841095\n",
      "OrderedDict([('weight', tensor([0.4069])), ('bias', tensor([0.3088]))])\n",
      "loss : 0.1060912236571312\n",
      "OrderedDict([('weight', tensor([0.4108])), ('bias', tensor([0.3178]))])\n",
      "loss : 0.09681284427642822\n",
      "OrderedDict([('weight', tensor([0.4146])), ('bias', tensor([0.3258]))])\n",
      "loss : 0.08908725529909134\n",
      "OrderedDict([('weight', tensor([0.4184])), ('bias', tensor([0.3333]))])\n",
      "loss : 0.08227583020925522\n",
      "OrderedDict([('weight', tensor([0.4222])), ('bias', tensor([0.3403]))])\n",
      "loss : 0.07638873159885406\n",
      "OrderedDict([('weight', tensor([0.4258])), ('bias', tensor([0.3463]))])\n",
      "loss : 0.07160007208585739\n",
      "OrderedDict([('weight', tensor([0.4293])), ('bias', tensor([0.3518]))])\n",
      "loss : 0.06747635453939438\n",
      "OrderedDict([('weight', tensor([0.4328])), ('bias', tensor([0.3568]))])\n",
      "loss : 0.06395438313484192\n",
      "OrderedDict([('weight', tensor([0.4361])), ('bias', tensor([0.3613]))])\n",
      "loss : 0.06097004935145378\n",
      "OrderedDict([('weight', tensor([0.4394])), ('bias', tensor([0.3653]))])\n",
      "loss : 0.05845819041132927\n",
      "OrderedDict([('weight', tensor([0.4425])), ('bias', tensor([0.3688]))])\n",
      "loss : 0.05635259300470352\n",
      "OrderedDict([('weight', tensor([0.4455])), ('bias', tensor([0.3718]))])\n",
      "loss : 0.0545857772231102\n",
      "OrderedDict([('weight', tensor([0.4483])), ('bias', tensor([0.3743]))])\n",
      "loss : 0.053148526698350906\n",
      "OrderedDict([('weight', tensor([0.4512])), ('bias', tensor([0.3768]))])\n",
      "loss : 0.05181945487856865\n",
      "OrderedDict([('weight', tensor([0.4539])), ('bias', tensor([0.3788]))])\n",
      "loss : 0.05069301277399063\n",
      "OrderedDict([('weight', tensor([0.4564])), ('bias', tensor([0.3803]))])\n",
      "loss : 0.0498228520154953\n",
      "OrderedDict([('weight', tensor([0.4590])), ('bias', tensor([0.3818]))])\n",
      "loss : 0.04895269125699997\n",
      "OrderedDict([('weight', tensor([0.4615])), ('bias', tensor([0.3833]))])\n",
      "loss : 0.04819351062178612\n",
      "OrderedDict([('weight', tensor([0.4639])), ('bias', tensor([0.3843]))])\n",
      "loss : 0.047531817108392715\n",
      "OrderedDict([('weight', tensor([0.4662])), ('bias', tensor([0.3853]))])\n",
      "loss : 0.04692792519927025\n",
      "OrderedDict([('weight', tensor([0.4684])), ('bias', tensor([0.3858]))])\n",
      "loss : 0.04642331600189209\n",
      "OrderedDict([('weight', tensor([0.4706])), ('bias', tensor([0.3863]))])\n",
      "loss : 0.04591871052980423\n",
      "OrderedDict([('weight', tensor([0.4728])), ('bias', tensor([0.3868]))])\n",
      "loss : 0.04543796554207802\n",
      "OrderedDict([('weight', tensor([0.4748])), ('bias', tensor([0.3868]))])\n",
      "loss : 0.04503796249628067\n",
      "OrderedDict([('weight', tensor([0.4768])), ('bias', tensor([0.3868]))])\n",
      "loss : 0.04463795945048332\n",
      "OrderedDict([('weight', tensor([0.4788])), ('bias', tensor([0.3868]))])\n",
      "loss : 0.04423796385526657\n",
      "OrderedDict([('weight', tensor([0.4808])), ('bias', tensor([0.3868]))])\n",
      "loss : 0.04383796453475952\n",
      "OrderedDict([('weight', tensor([0.4828])), ('bias', tensor([0.3868]))])\n",
      "loss : 0.04343796148896217\n",
      "OrderedDict([('weight', tensor([0.4848])), ('bias', tensor([0.3868]))])\n",
      "loss : 0.043074630200862885\n",
      "OrderedDict([('weight', tensor([0.4866])), ('bias', tensor([0.3863]))])\n",
      "loss : 0.04272563382983208\n",
      "OrderedDict([('weight', tensor([0.4884])), ('bias', tensor([0.3858]))])\n",
      "loss : 0.04237663000822067\n",
      "OrderedDict([('weight', tensor([0.4902])), ('bias', tensor([0.3853]))])\n",
      "loss : 0.04202762991189957\n",
      "OrderedDict([('weight', tensor([0.4920])), ('bias', tensor([0.3848]))])\n",
      "loss : 0.04167863354086876\n",
      "OrderedDict([('weight', tensor([0.4938])), ('bias', tensor([0.3843]))])\n",
      "loss : 0.04132963344454765\n",
      "OrderedDict([('weight', tensor([0.4956])), ('bias', tensor([0.3838]))])\n",
      "loss : 0.04098063334822655\n",
      "OrderedDict([('weight', tensor([0.4974])), ('bias', tensor([0.3833]))])\n",
      "loss : 0.04063162952661514\n",
      "OrderedDict([('weight', tensor([0.4992])), ('bias', tensor([0.3828]))])\n",
      "loss : 0.040282636880874634\n",
      "OrderedDict([('weight', tensor([0.5010])), ('bias', tensor([0.3823]))])\n",
      "loss : 0.039933640509843826\n",
      "OrderedDict([('weight', tensor([0.5028])), ('bias', tensor([0.3818]))])\n",
      "loss : 0.03958464413881302\n",
      "OrderedDict([('weight', tensor([0.5046])), ('bias', tensor([0.3813]))])\n",
      "loss : 0.03923564404249191\n",
      "OrderedDict([('weight', tensor([0.5064])), ('bias', tensor([0.3808]))])\n",
      "loss : 0.03888664394617081\n",
      "OrderedDict([('weight', tensor([0.5082])), ('bias', tensor([0.3803]))])\n",
      "loss : 0.0385376438498497\n",
      "OrderedDict([('weight', tensor([0.5100])), ('bias', tensor([0.3798]))])\n",
      "loss : 0.03818932920694351\n",
      "OrderedDict([('weight', tensor([0.5116])), ('bias', tensor([0.3788]))])\n",
      "loss : 0.03785243630409241\n",
      "OrderedDict([('weight', tensor([0.5134])), ('bias', tensor([0.3783]))])\n",
      "loss : 0.0375034399330616\n",
      "OrderedDict([('weight', tensor([0.5152])), ('bias', tensor([0.3778]))])\n",
      "loss : 0.037164121866226196\n",
      "OrderedDict([('weight', tensor([0.5168])), ('bias', tensor([0.3768]))])\n",
      "loss : 0.03681822493672371\n",
      "OrderedDict([('weight', tensor([0.5186])), ('bias', tensor([0.3763]))])\n",
      "loss : 0.03647511452436447\n",
      "OrderedDict([('weight', tensor([0.5202])), ('bias', tensor([0.3753]))])\n",
      "loss : 0.03613303601741791\n",
      "OrderedDict([('weight', tensor([0.5220])), ('bias', tensor([0.3748]))])\n",
      "loss : 0.03578609973192215\n",
      "OrderedDict([('weight', tensor([0.5236])), ('bias', tensor([0.3738]))])\n",
      "loss : 0.03544783592224121\n",
      "OrderedDict([('weight', tensor([0.5254])), ('bias', tensor([0.3733]))])\n",
      "loss : 0.035098835825920105\n",
      "OrderedDict([('weight', tensor([0.5272])), ('bias', tensor([0.3728]))])\n",
      "loss : 0.03476089984178543\n",
      "OrderedDict([('weight', tensor([0.5288])), ('bias', tensor([0.3718]))])\n",
      "loss : 0.03441363573074341\n",
      "OrderedDict([('weight', tensor([0.5306])), ('bias', tensor([0.3713]))])\n",
      "loss : 0.03407188132405281\n",
      "OrderedDict([('weight', tensor([0.5322])), ('bias', tensor([0.3703]))])\n",
      "loss : 0.03372843936085701\n",
      "OrderedDict([('weight', tensor([0.5340])), ('bias', tensor([0.3698]))])\n",
      "loss : 0.03338287025690079\n",
      "OrderedDict([('weight', tensor([0.5355])), ('bias', tensor([0.3688]))])\n",
      "loss : 0.033043231815099716\n",
      "OrderedDict([('weight', tensor([0.5373])), ('bias', tensor([0.3683]))])\n",
      "loss : 0.03269423171877861\n",
      "OrderedDict([('weight', tensor([0.5391])), ('bias', tensor([0.3678]))])\n",
      "loss : 0.032357655465602875\n",
      "OrderedDict([('weight', tensor([0.5407])), ('bias', tensor([0.3668]))])\n",
      "loss : 0.03200903534889221\n",
      "OrderedDict([('weight', tensor([0.5425])), ('bias', tensor([0.3663]))])\n",
      "loss : 0.03166864812374115\n",
      "OrderedDict([('weight', tensor([0.5441])), ('bias', tensor([0.3653]))])\n",
      "loss : 0.03132382780313492\n",
      "OrderedDict([('weight', tensor([0.5459])), ('bias', tensor([0.3648]))])\n",
      "loss : 0.030979642644524574\n",
      "OrderedDict([('weight', tensor([0.5475])), ('bias', tensor([0.3638]))])\n",
      "loss : 0.030638623982667923\n",
      "OrderedDict([('weight', tensor([0.5493])), ('bias', tensor([0.3633]))])\n",
      "loss : 0.0302906334400177\n",
      "OrderedDict([('weight', tensor([0.5509])), ('bias', tensor([0.3623]))])\n",
      "loss : 0.029953425750136375\n",
      "OrderedDict([('weight', tensor([0.5527])), ('bias', tensor([0.3618]))])\n",
      "loss : 0.02960442565381527\n",
      "OrderedDict([('weight', tensor([0.5545])), ('bias', tensor([0.3613]))])\n",
      "loss : 0.029265418648719788\n",
      "OrderedDict([('weight', tensor([0.5561])), ('bias', tensor([0.3603]))])\n",
      "loss : 0.028919223695993423\n",
      "OrderedDict([('weight', tensor([0.5579])), ('bias', tensor([0.3598]))])\n",
      "loss : 0.028576409444212914\n",
      "OrderedDict([('weight', tensor([0.5595])), ('bias', tensor([0.3588]))])\n",
      "loss : 0.028234025463461876\n",
      "OrderedDict([('weight', tensor([0.5613])), ('bias', tensor([0.3583]))])\n",
      "loss : 0.02788739837706089\n",
      "OrderedDict([('weight', tensor([0.5629])), ('bias', tensor([0.3573]))])\n",
      "loss : 0.02754882536828518\n",
      "OrderedDict([('weight', tensor([0.5647])), ('bias', tensor([0.3568]))])\n",
      "loss : 0.027199819684028625\n",
      "OrderedDict([('weight', tensor([0.5665])), ('bias', tensor([0.3563]))])\n",
      "loss : 0.026862185448408127\n",
      "OrderedDict([('weight', tensor([0.5681])), ('bias', tensor([0.3553]))])\n",
      "loss : 0.02651461586356163\n",
      "OrderedDict([('weight', tensor([0.5699])), ('bias', tensor([0.3548]))])\n",
      "loss : 0.026173178106546402\n",
      "OrderedDict([('weight', tensor([0.5715])), ('bias', tensor([0.3538]))])\n",
      "loss : 0.025829419493675232\n",
      "OrderedDict([('weight', tensor([0.5733])), ('bias', tensor([0.3533]))])\n",
      "loss : 0.02548416517674923\n",
      "OrderedDict([('weight', tensor([0.5748])), ('bias', tensor([0.3523]))])\n",
      "loss : 0.025144213810563087\n",
      "OrderedDict([('weight', tensor([0.5766])), ('bias', tensor([0.3518]))])\n",
      "loss : 0.02479521557688713\n",
      "OrderedDict([('weight', tensor([0.5784])), ('bias', tensor([0.3513]))])\n",
      "loss : 0.024458957836031914\n",
      "OrderedDict([('weight', tensor([0.5800])), ('bias', tensor([0.3503]))])\n",
      "loss : 0.024110013619065285\n",
      "OrderedDict([('weight', tensor([0.5818])), ('bias', tensor([0.3498]))])\n",
      "loss : 0.02376994863152504\n",
      "OrderedDict([('weight', tensor([0.5834])), ('bias', tensor([0.3488]))])\n",
      "loss : 0.02342480979859829\n",
      "OrderedDict([('weight', tensor([0.5852])), ('bias', tensor([0.3483]))])\n",
      "loss : 0.023080935701727867\n",
      "OrderedDict([('weight', tensor([0.5868])), ('bias', tensor([0.3473]))])\n",
      "loss : 0.022739607840776443\n",
      "OrderedDict([('weight', tensor([0.5886])), ('bias', tensor([0.3468]))])\n",
      "loss : 0.022391926497220993\n",
      "OrderedDict([('weight', tensor([0.5902])), ('bias', tensor([0.3458]))])\n",
      "loss : 0.022054409608244896\n",
      "OrderedDict([('weight', tensor([0.5920])), ('bias', tensor([0.3453]))])\n",
      "loss : 0.02170540764927864\n",
      "OrderedDict([('weight', tensor([0.5938])), ('bias', tensor([0.3448]))])\n",
      "loss : 0.021366719156503677\n",
      "OrderedDict([('weight', tensor([0.5954])), ('bias', tensor([0.3438]))])\n",
      "loss : 0.021020207554101944\n",
      "OrderedDict([('weight', tensor([0.5972])), ('bias', tensor([0.3433]))])\n",
      "loss : 0.020677709951996803\n",
      "OrderedDict([('weight', tensor([0.5988])), ('bias', tensor([0.3423]))])\n",
      "loss : 0.02033500373363495\n",
      "OrderedDict([('weight', tensor([0.6006])), ('bias', tensor([0.3418]))])\n",
      "loss : 0.01998869702219963\n",
      "OrderedDict([('weight', tensor([0.6022])), ('bias', tensor([0.3408]))])\n",
      "loss : 0.019649803638458252\n",
      "OrderedDict([('weight', tensor([0.6040])), ('bias', tensor([0.3403]))])\n",
      "loss : 0.019300809130072594\n",
      "OrderedDict([('weight', tensor([0.6058])), ('bias', tensor([0.3398]))])\n",
      "loss : 0.018963487818837166\n",
      "OrderedDict([('weight', tensor([0.6074])), ('bias', tensor([0.3388]))])\n",
      "loss : 0.01861560344696045\n",
      "OrderedDict([('weight', tensor([0.6092])), ('bias', tensor([0.3383]))])\n",
      "loss : 0.018274478614330292\n",
      "OrderedDict([('weight', tensor([0.6108])), ('bias', tensor([0.3373]))])\n",
      "loss : 0.017930403351783752\n",
      "OrderedDict([('weight', tensor([0.6126])), ('bias', tensor([0.3368]))])\n",
      "loss : 0.01758546568453312\n",
      "OrderedDict([('weight', tensor([0.6141])), ('bias', tensor([0.3358]))])\n",
      "loss : 0.017245199531316757\n",
      "OrderedDict([('weight', tensor([0.6159])), ('bias', tensor([0.3353]))])\n",
      "loss : 0.016896454617381096\n",
      "OrderedDict([('weight', tensor([0.6175])), ('bias', tensor([0.3343]))])\n",
      "loss : 0.01656000316143036\n",
      "OrderedDict([('weight', tensor([0.6193])), ('bias', tensor([0.3338]))])\n",
      "loss : 0.016210997477173805\n",
      "OrderedDict([('weight', tensor([0.6211])), ('bias', tensor([0.3333]))])\n",
      "loss : 0.01587124727666378\n",
      "OrderedDict([('weight', tensor([0.6227])), ('bias', tensor([0.3323]))])\n",
      "loss : 0.015525798313319683\n",
      "OrderedDict([('weight', tensor([0.6245])), ('bias', tensor([0.3318]))])\n",
      "loss : 0.015182236209511757\n",
      "OrderedDict([('weight', tensor([0.6261])), ('bias', tensor([0.3308]))])\n",
      "loss : 0.014840595424175262\n",
      "OrderedDict([('weight', tensor([0.6279])), ('bias', tensor([0.3303]))])\n",
      "loss : 0.01449323259294033\n",
      "OrderedDict([('weight', tensor([0.6295])), ('bias', tensor([0.3293]))])\n",
      "loss : 0.014155393466353416\n",
      "OrderedDict([('weight', tensor([0.6313])), ('bias', tensor([0.3288]))])\n",
      "loss : 0.013806397095322609\n",
      "OrderedDict([('weight', tensor([0.6331])), ('bias', tensor([0.3283]))])\n",
      "loss : 0.013468016870319843\n",
      "OrderedDict([('weight', tensor([0.6347])), ('bias', tensor([0.3273]))])\n",
      "loss : 0.013121193274855614\n",
      "OrderedDict([('weight', tensor([0.6365])), ('bias', tensor([0.3268]))])\n",
      "loss : 0.01277900766581297\n",
      "OrderedDict([('weight', tensor([0.6381])), ('bias', tensor([0.3258]))])\n",
      "loss : 0.012435992248356342\n",
      "OrderedDict([('weight', tensor([0.6399])), ('bias', tensor([0.3253]))])\n",
      "loss : 0.01208999752998352\n",
      "OrderedDict([('weight', tensor([0.6415])), ('bias', tensor([0.3243]))])\n",
      "loss : 0.011750795878469944\n",
      "OrderedDict([('weight', tensor([0.6433])), ('bias', tensor([0.3238]))])\n",
      "loss : 0.011401787400245667\n",
      "OrderedDict([('weight', tensor([0.6451])), ('bias', tensor([0.3233]))])\n",
      "loss : 0.011064787395298481\n",
      "OrderedDict([('weight', tensor([0.6467])), ('bias', tensor([0.3223]))])\n",
      "loss : 0.010716589167714119\n",
      "OrderedDict([('weight', tensor([0.6485])), ('bias', tensor([0.3218]))])\n",
      "loss : 0.010375778190791607\n",
      "OrderedDict([('weight', tensor([0.6501])), ('bias', tensor([0.3208]))])\n",
      "loss : 0.010031387209892273\n",
      "OrderedDict([('weight', tensor([0.6519])), ('bias', tensor([0.3203]))])\n",
      "loss : 0.009686763398349285\n",
      "OrderedDict([('weight', tensor([0.6534])), ('bias', tensor([0.3193]))])\n",
      "loss : 0.009346187114715576\n",
      "OrderedDict([('weight', tensor([0.6552])), ('bias', tensor([0.3188]))])\n",
      "loss : 0.008997755125164986\n",
      "OrderedDict([('weight', tensor([0.6568])), ('bias', tensor([0.3178]))])\n",
      "loss : 0.008660981431603432\n",
      "OrderedDict([('weight', tensor([0.6586])), ('bias', tensor([0.3173]))])\n",
      "loss : 0.008311985060572624\n",
      "OrderedDict([('weight', tensor([0.6604])), ('bias', tensor([0.3168]))])\n",
      "loss : 0.007972544990479946\n",
      "OrderedDict([('weight', tensor([0.6620])), ('bias', tensor([0.3158]))])\n",
      "loss : 0.007626785431057215\n",
      "OrderedDict([('weight', tensor([0.6638])), ('bias', tensor([0.3153]))])\n"
     ]
    }
   ],
   "source": [
    "# Building a training loop and testing loop\n",
    "\n",
    "RANDOM_SEED = 42\n",
    "torch.manual_seed(RANDOM_SEED)\n",
    "epochs = 150\n",
    "for epoch in range(epochs):\n",
    "    model_0.train()\n",
    "    y_pred = model_0(X_train)\n",
    "    loss = loss_fn(y_pred,y_train)\n",
    "    print(f\"loss : {loss}\")\n",
    "    optimizer.zero_grad()\n",
    "    loss.backward()\n",
    "    optimizer.step()\n",
    "    model_0.eval()\n",
    "    print(model_0.state_dict())"
   ],
   "metadata": {
    "collapsed": false,
    "ExecuteTime": {
     "end_time": "2023-07-28T14:19:45.536912Z",
     "start_time": "2023-07-28T14:19:45.298123200Z"
    }
   }
  },
  {
   "cell_type": "code",
   "execution_count": 526,
   "outputs": [
    {
     "data": {
      "text/plain": "OrderedDict([('weight', tensor([0.6638])), ('bias', tensor([0.3153]))])"
     },
     "execution_count": 526,
     "metadata": {},
     "output_type": "execute_result"
    }
   ],
   "source": [
    "model_0.state_dict()"
   ],
   "metadata": {
    "collapsed": false,
    "ExecuteTime": {
     "end_time": "2023-07-28T14:19:45.538481500Z",
     "start_time": "2023-07-28T14:19:45.536965300Z"
    }
   }
  },
  {
   "cell_type": "code",
   "execution_count": 527,
   "outputs": [],
   "source": [
    "with torch.inference_mode():\n",
    "    y_pred_new = model_0(X_test)"
   ],
   "metadata": {
    "collapsed": false,
    "ExecuteTime": {
     "end_time": "2023-07-28T14:19:45.546203500Z",
     "start_time": "2023-07-28T14:19:45.545551400Z"
    }
   }
  },
  {
   "cell_type": "code",
   "execution_count": 528,
   "outputs": [
    {
     "data": {
      "text/plain": "<Figure size 500x300 with 1 Axes>",
      "image/png": "[encoded data removed]"
     },
     "metadata": {},
     "output_type": "display_data"
    }
   ],
   "source": [
    "plot_predictions(predictions=y_pred_new)"
   ],
   "metadata": {
    "collapsed": false,
    "ExecuteTime": {
     "end_time": "2023-07-28T14:19:45.909014300Z",
     "start_time": "2023-07-28T14:19:45.548612500Z"
    }
   }
  },
  {
   "cell_type": "code",
   "execution_count": 528,
   "outputs": [],
   "source": [],
   "metadata": {
    "collapsed": false,
    "ExecuteTime": {
     "end_time": "2023-07-28T14:19:46.015597800Z",
     "start_time": "2023-07-28T14:19:45.912712300Z"
    }
   }
  },
  {
   "cell_type": "code",
   "execution_count": 528,
   "outputs": [],
   "source": [],
   "metadata": {
    "collapsed": false,
    "ExecuteTime": {
     "end_time": "2023-07-28T14:19:46.015597800Z",
     "start_time": "2023-07-28T14:19:45.925691700Z"
    }
   }
  }
 ],
 "metadata": {
  "kernelspec": {
   "display_name": "Python 3",
   "language": "python",
   "name": "python3"
  },
  "language_info": {
   "codemirror_mode": {
    "name": "ipython",
    "version": 2
   },
   "file_extension": ".py",
   "mimetype": "text/x-python",
   "name": "python",
   "nbconvert_exporter": "python",
   "pygments_lexer": "ipython2",
   "version": "2.7.6"
  }
 },
 "nbformat": 4,
 "nbformat_minor": 0
}
