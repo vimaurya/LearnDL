{
 "cells": [
  {
   "cell_type": "markdown",
   "source": [
    "![reference image](https://hadrienj.github.io/assets/images/2.1/scalar-vector-matrix-tensor.png)"
   ],
   "metadata": {
    "collapsed": false
   }
  },
  {
   "cell_type": "code",
   "execution_count": 85,
   "outputs": [],
   "source": [
    "import torch\n",
    "import pandas as pd\n",
    "import numpy as np"
   ],
   "metadata": {
    "collapsed": false,
    "ExecuteTime": {
     "end_time": "2023-07-26T07:09:34.039439100Z",
     "start_time": "2023-07-26T07:09:33.915490Z"
    }
   }
  },
  {
   "cell_type": "code",
   "execution_count": 86,
   "outputs": [
    {
     "data": {
      "text/plain": "tensor(7)"
     },
     "execution_count": 86,
     "metadata": {},
     "output_type": "execute_result"
    }
   ],
   "source": [
    "#scalar\n",
    "scalar = torch.tensor(7)\n",
    "scalar"
   ],
   "metadata": {
    "collapsed": false,
    "ExecuteTime": {
     "end_time": "2023-07-26T07:09:34.531652200Z",
     "start_time": "2023-07-26T07:09:33.931391300Z"
    }
   }
  },
  {
   "cell_type": "code",
   "execution_count": 87,
   "outputs": [
    {
     "data": {
      "text/plain": "0"
     },
     "execution_count": 87,
     "metadata": {},
     "output_type": "execute_result"
    }
   ],
   "source": [
    "scalar.ndim"
   ],
   "metadata": {
    "collapsed": false,
    "ExecuteTime": {
     "end_time": "2023-07-26T07:09:34.532187Z",
     "start_time": "2023-07-26T07:09:33.947400700Z"
    }
   }
  },
  {
   "cell_type": "code",
   "execution_count": 88,
   "outputs": [
    {
     "data": {
      "text/plain": "7"
     },
     "execution_count": 88,
     "metadata": {},
     "output_type": "execute_result"
    }
   ],
   "source": [
    "#Get tensor back as Python integer\n",
    "scalar.item()"
   ],
   "metadata": {
    "collapsed": false,
    "ExecuteTime": {
     "end_time": "2023-07-26T07:09:34.533213600Z",
     "start_time": "2023-07-26T07:09:33.958705300Z"
    }
   }
  },
  {
   "cell_type": "code",
   "execution_count": 89,
   "outputs": [
    {
     "data": {
      "text/plain": "tensor([7, 7])"
     },
     "execution_count": 89,
     "metadata": {},
     "output_type": "execute_result"
    }
   ],
   "source": [
    "vector = torch.tensor([7,7])\n",
    "vector"
   ],
   "metadata": {
    "collapsed": false,
    "ExecuteTime": {
     "end_time": "2023-07-26T07:09:34.534437700Z",
     "start_time": "2023-07-26T07:09:33.972515900Z"
    }
   }
  },
  {
   "cell_type": "code",
   "execution_count": 90,
   "outputs": [
    {
     "data": {
      "text/plain": "1"
     },
     "execution_count": 90,
     "metadata": {},
     "output_type": "execute_result"
    }
   ],
   "source": [
    "# ndim is number of dimensions\n",
    "vector.ndim"
   ],
   "metadata": {
    "collapsed": false,
    "ExecuteTime": {
     "end_time": "2023-07-26T07:09:34.536569500Z",
     "start_time": "2023-07-26T07:09:33.987549700Z"
    }
   }
  },
  {
   "cell_type": "code",
   "execution_count": 91,
   "outputs": [
    {
     "data": {
      "text/plain": "torch.Size([2])"
     },
     "execution_count": 91,
     "metadata": {},
     "output_type": "execute_result"
    }
   ],
   "source": [
    "vector.shape"
   ],
   "metadata": {
    "collapsed": false,
    "ExecuteTime": {
     "end_time": "2023-07-26T07:09:34.536569500Z",
     "start_time": "2023-07-26T07:09:34.002241600Z"
    }
   }
  },
  {
   "cell_type": "code",
   "execution_count": 92,
   "outputs": [
    {
     "data": {
      "text/plain": "tensor([[5, 6],\n        [3, 4]])"
     },
     "execution_count": 92,
     "metadata": {},
     "output_type": "execute_result"
    }
   ],
   "source": [
    "# Matrix\n",
    "matrix = torch.tensor([[5,6],[3,4]])\n",
    "matrix"
   ],
   "metadata": {
    "collapsed": false,
    "ExecuteTime": {
     "end_time": "2023-07-26T07:09:34.537990500Z",
     "start_time": "2023-07-26T07:09:34.016137400Z"
    }
   }
  },
  {
   "cell_type": "code",
   "execution_count": 93,
   "outputs": [
    {
     "data": {
      "text/plain": "2"
     },
     "execution_count": 93,
     "metadata": {},
     "output_type": "execute_result"
    }
   ],
   "source": [
    "matrix.ndim"
   ],
   "metadata": {
    "collapsed": false,
    "ExecuteTime": {
     "end_time": "2023-07-26T07:09:34.537990500Z",
     "start_time": "2023-07-26T07:09:34.030812300Z"
    }
   }
  },
  {
   "cell_type": "code",
   "execution_count": 94,
   "outputs": [
    {
     "data": {
      "text/plain": "torch.Size([2, 2])"
     },
     "execution_count": 94,
     "metadata": {},
     "output_type": "execute_result"
    }
   ],
   "source": [
    "matrix.shape"
   ],
   "metadata": {
    "collapsed": false,
    "ExecuteTime": {
     "end_time": "2023-07-26T07:09:34.537990500Z",
     "start_time": "2023-07-26T07:09:34.048617200Z"
    }
   }
  },
  {
   "cell_type": "code",
   "execution_count": 95,
   "outputs": [
    {
     "data": {
      "text/plain": "tensor([1, 2, 3])"
     },
     "execution_count": 95,
     "metadata": {},
     "output_type": "execute_result"
    }
   ],
   "source": [
    "# Tensor\n",
    "tensor = torch.tensor([1,2,3])\n",
    "tensor"
   ],
   "metadata": {
    "collapsed": false,
    "ExecuteTime": {
     "end_time": "2023-07-26T07:09:34.556165700Z",
     "start_time": "2023-07-26T07:09:34.062362600Z"
    }
   }
  },
  {
   "cell_type": "code",
   "execution_count": 96,
   "outputs": [
    {
     "data": {
      "text/plain": "1"
     },
     "execution_count": 96,
     "metadata": {},
     "output_type": "execute_result"
    }
   ],
   "source": [
    "tensor.ndim"
   ],
   "metadata": {
    "collapsed": false,
    "ExecuteTime": {
     "end_time": "2023-07-26T07:09:34.557164400Z",
     "start_time": "2023-07-26T07:09:34.079444900Z"
    }
   }
  },
  {
   "cell_type": "code",
   "execution_count": 97,
   "outputs": [
    {
     "data": {
      "text/plain": "torch.Size([3])"
     },
     "execution_count": 97,
     "metadata": {},
     "output_type": "execute_result"
    }
   ],
   "source": [
    "tensor.shape"
   ],
   "metadata": {
    "collapsed": false,
    "ExecuteTime": {
     "end_time": "2023-07-26T07:09:34.558159900Z",
     "start_time": "2023-07-26T07:09:34.097427800Z"
    }
   }
  },
  {
   "cell_type": "code",
   "execution_count": 98,
   "outputs": [
    {
     "data": {
      "text/plain": "tensor(1)"
     },
     "execution_count": 98,
     "metadata": {},
     "output_type": "execute_result"
    }
   ],
   "source": [
    "tensor[0]"
   ],
   "metadata": {
    "collapsed": false,
    "ExecuteTime": {
     "end_time": "2023-07-26T07:09:34.559167700Z",
     "start_time": "2023-07-26T07:09:34.117157900Z"
    }
   }
  },
  {
   "cell_type": "code",
   "execution_count": 99,
   "outputs": [
    {
     "data": {
      "text/plain": "tensor([[0.6674, 0.9389, 0.3291, 0.5850],\n        [0.0422, 0.4563, 0.8886, 0.0729],\n        [0.6254, 0.4837, 0.8608, 0.0601]])"
     },
     "execution_count": 99,
     "metadata": {},
     "output_type": "execute_result"
    }
   ],
   "source": [
    "## Random tensors\n",
    "\n",
    "random_tensor = torch.rand(3,4)\n",
    "random_tensor"
   ],
   "metadata": {
    "collapsed": false,
    "ExecuteTime": {
     "end_time": "2023-07-26T07:09:34.560150500Z",
     "start_time": "2023-07-26T07:09:34.140821200Z"
    }
   }
  },
  {
   "cell_type": "code",
   "execution_count": 100,
   "outputs": [
    {
     "data": {
      "text/plain": "3"
     },
     "execution_count": 100,
     "metadata": {},
     "output_type": "execute_result"
    }
   ],
   "source": [
    "# Random tensor with similar shape to an image tensor\n",
    "random_image_tensor = torch.rand(224,224,3)\n",
    "random_image_tensor.ndim"
   ],
   "metadata": {
    "collapsed": false,
    "ExecuteTime": {
     "end_time": "2023-07-26T07:09:34.561529700Z",
     "start_time": "2023-07-26T07:09:34.160764100Z"
    }
   }
  },
  {
   "cell_type": "code",
   "execution_count": 101,
   "outputs": [
    {
     "data": {
      "text/plain": "torch.Size([224, 224, 3])"
     },
     "execution_count": 101,
     "metadata": {},
     "output_type": "execute_result"
    }
   ],
   "source": [
    "random_image_tensor.shape"
   ],
   "metadata": {
    "collapsed": false,
    "ExecuteTime": {
     "end_time": "2023-07-26T07:09:34.562553100Z",
     "start_time": "2023-07-26T07:09:34.188322200Z"
    }
   }
  },
  {
   "cell_type": "code",
   "execution_count": 102,
   "outputs": [
    {
     "data": {
      "text/plain": "tensor([[0., 0., 0., 0.],\n        [0., 0., 0., 0.],\n        [0., 0., 0., 0.]])"
     },
     "execution_count": 102,
     "metadata": {},
     "output_type": "execute_result"
    }
   ],
   "source": [
    "# Zeros and ones\n",
    "zero = torch.zeros(3,4)\n",
    "zero"
   ],
   "metadata": {
    "collapsed": false,
    "ExecuteTime": {
     "end_time": "2023-07-26T07:09:34.563097100Z",
     "start_time": "2023-07-26T07:09:34.207538900Z"
    }
   }
  },
  {
   "cell_type": "code",
   "execution_count": 103,
   "outputs": [
    {
     "data": {
      "text/plain": "tensor([[0., 0., 0., 0.],\n        [0., 0., 0., 0.],\n        [0., 0., 0., 0.]])"
     },
     "execution_count": 103,
     "metadata": {},
     "output_type": "execute_result"
    }
   ],
   "source": [
    "zero*random_tensor"
   ],
   "metadata": {
    "collapsed": false,
    "ExecuteTime": {
     "end_time": "2023-07-26T07:09:34.564116200Z",
     "start_time": "2023-07-26T07:09:34.237638600Z"
    }
   }
  },
  {
   "cell_type": "code",
   "execution_count": 104,
   "outputs": [
    {
     "data": {
      "text/plain": "tensor([[1., 1., 1., 1.],\n        [1., 1., 1., 1.],\n        [1., 1., 1., 1.]])"
     },
     "execution_count": 104,
     "metadata": {},
     "output_type": "execute_result"
    }
   ],
   "source": [
    "one = torch.ones(3,4)\n",
    "one"
   ],
   "metadata": {
    "collapsed": false,
    "ExecuteTime": {
     "end_time": "2023-07-26T07:09:34.564116200Z",
     "start_time": "2023-07-26T07:09:34.266342800Z"
    }
   }
  },
  {
   "cell_type": "code",
   "execution_count": 105,
   "outputs": [
    {
     "data": {
      "text/plain": "tensor([  0,  45,  90, 135, 180, 225, 270, 315, 360, 405, 450, 495])"
     },
     "execution_count": 105,
     "metadata": {},
     "output_type": "execute_result"
    }
   ],
   "source": [
    "# Range of tensors\n",
    "range_tensor = torch.arange(start = 0, end=500, step=45)\n",
    "range_tensor"
   ],
   "metadata": {
    "collapsed": false,
    "ExecuteTime": {
     "end_time": "2023-07-26T07:09:34.564116200Z",
     "start_time": "2023-07-26T07:09:34.282185900Z"
    }
   }
  },
  {
   "cell_type": "code",
   "execution_count": 106,
   "outputs": [
    {
     "data": {
      "text/plain": "tensor([0, 0, 0, 0, 0, 0, 0, 0, 0, 0, 0, 0])"
     },
     "execution_count": 106,
     "metadata": {},
     "output_type": "execute_result"
    }
   ],
   "source": [
    "# Tensors like\n",
    "# Creates a tensor with the same shape as the input tensor\n",
    "zeros = torch.zeros_like(input=range_tensor)\n",
    "zeros"
   ],
   "metadata": {
    "collapsed": false,
    "ExecuteTime": {
     "end_time": "2023-07-26T07:09:34.565618100Z",
     "start_time": "2023-07-26T07:09:34.312843200Z"
    }
   }
  },
  {
   "cell_type": "code",
   "execution_count": 107,
   "outputs": [
    {
     "name": "stdout",
     "output_type": "stream",
     "text": [
      "This is tensor : tensor([3., 5., 4.]), this is datatype : torch.float32\n"
     ]
    }
   ],
   "source": [
    "# Tensor datatypes\n",
    "tensorFloat32 = torch.tensor([3.0,5.0,4.0],dtype=torch.float32,device=None,requires_grad=False)\n",
    "print(f\"This is tensor : {tensorFloat32}, this is datatype : {tensorFloat32.dtype}\")"
   ],
   "metadata": {
    "collapsed": false,
    "ExecuteTime": {
     "end_time": "2023-07-26T07:09:34.579512400Z",
     "start_time": "2023-07-26T07:09:34.329593500Z"
    }
   }
  },
  {
   "cell_type": "code",
   "execution_count": 108,
   "outputs": [
    {
     "data": {
      "text/plain": "tensor([3., 5., 4.], dtype=torch.float16)"
     },
     "execution_count": 108,
     "metadata": {},
     "output_type": "execute_result"
    }
   ],
   "source": [
    "tensorFloat16 = tensorFloat32.type(torch.float16)\n",
    "tensorFloat16"
   ],
   "metadata": {
    "collapsed": false,
    "ExecuteTime": {
     "end_time": "2023-07-26T07:09:34.580917800Z",
     "start_time": "2023-07-26T07:09:34.344192800Z"
    }
   }
  },
  {
   "cell_type": "code",
   "execution_count": 109,
   "outputs": [
    {
     "data": {
      "text/plain": "tensor([ 9., 25., 16.])"
     },
     "execution_count": 109,
     "metadata": {},
     "output_type": "execute_result"
    }
   ],
   "source": [
    "tensorFloat16*tensorFloat32"
   ],
   "metadata": {
    "collapsed": false,
    "ExecuteTime": {
     "end_time": "2023-07-26T07:09:34.582455200Z",
     "start_time": "2023-07-26T07:09:34.358538Z"
    }
   }
  },
  {
   "cell_type": "code",
   "execution_count": 110,
   "outputs": [
    {
     "data": {
      "text/plain": "tensor([3, 4, 5], dtype=torch.int32)"
     },
     "execution_count": 110,
     "metadata": {},
     "output_type": "execute_result"
    }
   ],
   "source": [
    "tensorInt32 = torch.tensor([3,4,5],dtype=torch.int32)\n",
    "tensorInt32"
   ],
   "metadata": {
    "collapsed": false,
    "ExecuteTime": {
     "end_time": "2023-07-26T07:09:34.583007Z",
     "start_time": "2023-07-26T07:09:34.372974400Z"
    }
   }
  },
  {
   "cell_type": "code",
   "execution_count": 111,
   "outputs": [
    {
     "data": {
      "text/plain": "tensor([ 9., 20., 20.], dtype=torch.float16)"
     },
     "execution_count": 111,
     "metadata": {},
     "output_type": "execute_result"
    }
   ],
   "source": [
    "tensorInt32*tensorFloat16"
   ],
   "metadata": {
    "collapsed": false,
    "ExecuteTime": {
     "end_time": "2023-07-26T07:09:34.584355400Z",
     "start_time": "2023-07-26T07:09:34.387972200Z"
    }
   }
  },
  {
   "cell_type": "code",
   "execution_count": 112,
   "outputs": [
    {
     "data": {
      "text/plain": "tensor([[0.4841, 0.2330, 0.6721, 0.7978],\n        [0.8380, 0.3625, 0.6818, 0.3929],\n        [0.5926, 0.3087, 0.8004, 0.2434]])"
     },
     "execution_count": 112,
     "metadata": {},
     "output_type": "execute_result"
    }
   ],
   "source": [
    "# Solving issues\n",
    "\n",
    "some_tensor = torch.rand(3,4)\n",
    "some_tensor"
   ],
   "metadata": {
    "collapsed": false,
    "ExecuteTime": {
     "end_time": "2023-07-26T07:09:34.584355400Z",
     "start_time": "2023-07-26T07:09:34.406895Z"
    }
   }
  },
  {
   "cell_type": "code",
   "execution_count": 113,
   "outputs": [
    {
     "name": "stdout",
     "output_type": "stream",
     "text": [
      "tensor([[0.4841, 0.2330, 0.6721, 0.7978],\n",
      "        [0.8380, 0.3625, 0.6818, 0.3929],\n",
      "        [0.5926, 0.3087, 0.8004, 0.2434]])\n",
      "datatype : torch.float32\n",
      "shape : torch.Size([3, 4])\n",
      "device : cpu\n"
     ]
    }
   ],
   "source": [
    "print(some_tensor)\n",
    "print(f\"datatype : {some_tensor.dtype}\")\n",
    "print(f\"shape : {some_tensor.shape}\")\n",
    "print(f\"device : {some_tensor.device}\")"
   ],
   "metadata": {
    "collapsed": false,
    "ExecuteTime": {
     "end_time": "2023-07-26T07:09:34.584355400Z",
     "start_time": "2023-07-26T07:09:34.436501100Z"
    }
   }
  },
  {
   "cell_type": "code",
   "execution_count": 114,
   "outputs": [
    {
     "data": {
      "text/plain": "tensor([11, 12, 13])"
     },
     "execution_count": 114,
     "metadata": {},
     "output_type": "execute_result"
    }
   ],
   "source": [
    "# Tensor operations\n",
    "\n",
    "tensorOp = torch.tensor([1,2,3])\n",
    "tensorOp + 10"
   ],
   "metadata": {
    "collapsed": false,
    "ExecuteTime": {
     "end_time": "2023-07-26T07:09:34.585379400Z",
     "start_time": "2023-07-26T07:09:34.457098800Z"
    }
   }
  },
  {
   "cell_type": "code",
   "execution_count": 115,
   "outputs": [
    {
     "data": {
      "text/plain": "tensor([10, 20, 30])"
     },
     "execution_count": 115,
     "metadata": {},
     "output_type": "execute_result"
    }
   ],
   "source": [
    "tensorOp*10"
   ],
   "metadata": {
    "collapsed": false,
    "ExecuteTime": {
     "end_time": "2023-07-26T07:09:34.585379400Z",
     "start_time": "2023-07-26T07:09:34.487181Z"
    }
   }
  },
  {
   "cell_type": "code",
   "execution_count": 116,
   "outputs": [
    {
     "data": {
      "text/plain": "tensor([-9, -8, -7])"
     },
     "execution_count": 116,
     "metadata": {},
     "output_type": "execute_result"
    }
   ],
   "source": [
    "tensorOp - 10"
   ],
   "metadata": {
    "collapsed": false,
    "ExecuteTime": {
     "end_time": "2023-07-26T07:09:34.587212700Z",
     "start_time": "2023-07-26T07:09:34.514991300Z"
    }
   }
  },
  {
   "cell_type": "code",
   "execution_count": 117,
   "outputs": [
    {
     "data": {
      "text/plain": "tensor([10, 20, 30])"
     },
     "execution_count": 117,
     "metadata": {},
     "output_type": "execute_result"
    }
   ],
   "source": [
    "torch.mul(tensorOp,10)"
   ],
   "metadata": {
    "collapsed": false,
    "ExecuteTime": {
     "end_time": "2023-07-26T07:09:35.370814500Z",
     "start_time": "2023-07-26T07:09:34.546602Z"
    }
   }
  },
  {
   "cell_type": "code",
   "execution_count": 118,
   "outputs": [
    {
     "data": {
      "text/plain": "tensor([11, 12, 13])"
     },
     "execution_count": 118,
     "metadata": {},
     "output_type": "execute_result"
    }
   ],
   "source": [
    "torch.add(tensorOp,10)"
   ],
   "metadata": {
    "collapsed": false,
    "ExecuteTime": {
     "end_time": "2023-07-26T07:09:35.372356400Z",
     "start_time": "2023-07-26T07:09:34.579512400Z"
    }
   }
  },
  {
   "cell_type": "code",
   "execution_count": 119,
   "outputs": [
    {
     "name": "stdout",
     "output_type": "stream",
     "text": [
      "tensor([1, 2, 3]) * tensor([1, 2, 3])\n",
      "Equals : tensor([1, 4, 9])\n"
     ]
    }
   ],
   "source": [
    "# Matrix multiplication or Dot product of matrix\n",
    "print(tensor,\"*\",tensor)\n",
    "print(f\"Equals : {tensor * tensor}\")"
   ],
   "metadata": {
    "collapsed": false,
    "ExecuteTime": {
     "end_time": "2023-07-26T07:09:35.374627800Z",
     "start_time": "2023-07-26T07:09:34.606378700Z"
    }
   }
  },
  {
   "cell_type": "code",
   "execution_count": 120,
   "outputs": [
    {
     "data": {
      "text/plain": "tensor(14)"
     },
     "execution_count": 120,
     "metadata": {},
     "output_type": "execute_result"
    }
   ],
   "source": [
    "torch.matmul(tensor,tensor)"
   ],
   "metadata": {
    "collapsed": false,
    "ExecuteTime": {
     "end_time": "2023-07-26T07:09:35.427795800Z",
     "start_time": "2023-07-26T07:09:34.623377100Z"
    }
   }
  },
  {
   "cell_type": "code",
   "execution_count": 121,
   "outputs": [
    {
     "data": {
      "text/plain": "tensor(14)"
     },
     "execution_count": 121,
     "metadata": {},
     "output_type": "execute_result"
    }
   ],
   "source": [
    "tensor @ tensor"
   ],
   "metadata": {
    "collapsed": false,
    "ExecuteTime": {
     "end_time": "2023-07-26T07:17:21.310741800Z",
     "start_time": "2023-07-26T07:17:21.281998500Z"
    }
   }
  },
  {
   "cell_type": "code",
   "execution_count": 122,
   "outputs": [
    {
     "data": {
      "text/plain": "tensor([[0.2507, 0.4695, 0.0827],\n        [0.0454, 0.1105, 0.0098],\n        [0.2685, 0.4449, 0.1003]])"
     },
     "execution_count": 122,
     "metadata": {},
     "output_type": "execute_result"
    }
   ],
   "source": [
    "torch.rand(3,2) @ torch.rand(2,3)"
   ],
   "metadata": {
    "collapsed": false,
    "ExecuteTime": {
     "end_time": "2023-07-26T07:21:20.412843900Z",
     "start_time": "2023-07-26T07:21:20.370200600Z"
    }
   }
  },
  {
   "cell_type": "code",
   "execution_count": 123,
   "outputs": [
    {
     "data": {
      "text/plain": "tensor([[0.6238, 0.8143],\n        [0.5936, 0.7295]])"
     },
     "execution_count": 123,
     "metadata": {},
     "output_type": "execute_result"
    }
   ],
   "source": [
    "torch.rand(2,3) @ torch.rand(3,2)"
   ],
   "metadata": {
    "collapsed": false,
    "ExecuteTime": {
     "end_time": "2023-07-26T07:21:48.333338Z",
     "start_time": "2023-07-26T07:21:48.273256300Z"
    }
   }
  },
  {
   "cell_type": "code",
   "execution_count": 128,
   "outputs": [
    {
     "ename": "RuntimeError",
     "evalue": "mat1 and mat2 shapes cannot be multiplied (3x2 and 3x2)",
     "output_type": "error",
     "traceback": [
      "\u001B[1;31m---------------------------------------------------------------------------\u001B[0m",
      "\u001B[1;31mRuntimeError\u001B[0m                              Traceback (most recent call last)",
      "Cell \u001B[1;32mIn[128], line 5\u001B[0m\n\u001B[0;32m      2\u001B[0m tensor_A \u001B[38;5;241m=\u001B[39m torch\u001B[38;5;241m.\u001B[39mtensor([[\u001B[38;5;241m1\u001B[39m,\u001B[38;5;241m2\u001B[39m],[\u001B[38;5;241m3\u001B[39m,\u001B[38;5;241m4\u001B[39m],[\u001B[38;5;241m5\u001B[39m,\u001B[38;5;241m6\u001B[39m]])\n\u001B[0;32m      3\u001B[0m tensor_B \u001B[38;5;241m=\u001B[39m torch\u001B[38;5;241m.\u001B[39mtensor([[\u001B[38;5;241m7\u001B[39m,\u001B[38;5;241m8\u001B[39m],[\u001B[38;5;241m9\u001B[39m,\u001B[38;5;241m10\u001B[39m],[\u001B[38;5;241m11\u001B[39m,\u001B[38;5;241m12\u001B[39m]])\n\u001B[1;32m----> 5\u001B[0m \u001B[43mtorch\u001B[49m\u001B[38;5;241;43m.\u001B[39;49m\u001B[43mmm\u001B[49m\u001B[43m(\u001B[49m\u001B[43mtensor_B\u001B[49m\u001B[43m,\u001B[49m\u001B[43mtensor_A\u001B[49m\u001B[43m)\u001B[49m\n",
      "\u001B[1;31mRuntimeError\u001B[0m: mat1 and mat2 shapes cannot be multiplied (3x2 and 3x2)"
     ]
    }
   ],
   "source": [
    "# Shape error\n",
    "tensor_A = torch.tensor([[1,2],[3,4],[5,6]])\n",
    "tensor_B = torch.tensor([[7,8],[9,10],[11,12]])\n",
    "\n",
    "torch.mm(tensor_B,tensor_A)"
   ],
   "metadata": {
    "collapsed": false,
    "ExecuteTime": {
     "end_time": "2023-07-26T07:29:41.589449700Z",
     "start_time": "2023-07-26T07:29:41.554015700Z"
    }
   }
  },
  {
   "cell_type": "code",
   "execution_count": 129,
   "outputs": [
    {
     "data": {
      "text/plain": "tensor([[ 7,  9, 11],\n        [ 8, 10, 12]])"
     },
     "execution_count": 129,
     "metadata": {},
     "output_type": "execute_result"
    }
   ],
   "source": [
    "# Fixing error\n",
    "tensor_B.T"
   ],
   "metadata": {
    "collapsed": false,
    "ExecuteTime": {
     "end_time": "2023-07-26T07:29:45.472378300Z",
     "start_time": "2023-07-26T07:29:45.428668Z"
    }
   }
  },
  {
   "cell_type": "code",
   "execution_count": 130,
   "outputs": [
    {
     "data": {
      "text/plain": "tensor([[ 23,  29,  35],\n        [ 53,  67,  81],\n        [ 83, 105, 127]])"
     },
     "execution_count": 130,
     "metadata": {},
     "output_type": "execute_result"
    }
   ],
   "source": [
    "tensor_B = tensor_B.T\n",
    "torch.mm(tensor_A,tensor_B)"
   ],
   "metadata": {
    "collapsed": false,
    "ExecuteTime": {
     "end_time": "2023-07-26T07:31:05.400079600Z",
     "start_time": "2023-07-26T07:31:05.350923900Z"
    }
   }
  },
  {
   "cell_type": "code",
   "execution_count": 120,
   "outputs": [],
   "source": [],
   "metadata": {
    "collapsed": false,
    "ExecuteTime": {
     "end_time": "2023-07-26T07:09:35.430778100Z",
     "start_time": "2023-07-26T07:09:34.742474700Z"
    }
   }
  },
  {
   "cell_type": "code",
   "execution_count": 120,
   "outputs": [],
   "source": [],
   "metadata": {
    "collapsed": false,
    "ExecuteTime": {
     "end_time": "2023-07-26T07:09:35.432370500Z",
     "start_time": "2023-07-26T07:09:34.756514Z"
    }
   }
  },
  {
   "cell_type": "code",
   "execution_count": 120,
   "outputs": [],
   "source": [],
   "metadata": {
    "collapsed": false,
    "ExecuteTime": {
     "end_time": "2023-07-26T07:09:35.432370500Z",
     "start_time": "2023-07-26T07:09:34.772171900Z"
    }
   }
  },
  {
   "cell_type": "code",
   "execution_count": 120,
   "outputs": [],
   "source": [],
   "metadata": {
    "collapsed": false,
    "ExecuteTime": {
     "end_time": "2023-07-26T07:09:35.440617800Z",
     "start_time": "2023-07-26T07:09:34.787539500Z"
    }
   }
  },
  {
   "cell_type": "code",
   "execution_count": 120,
   "outputs": [],
   "source": [],
   "metadata": {
    "collapsed": false,
    "ExecuteTime": {
     "end_time": "2023-07-26T07:09:35.440617800Z",
     "start_time": "2023-07-26T07:09:34.803037300Z"
    }
   }
  },
  {
   "cell_type": "code",
   "execution_count": 120,
   "outputs": [],
   "source": [],
   "metadata": {
    "collapsed": false,
    "ExecuteTime": {
     "end_time": "2023-07-26T07:09:35.442140300Z",
     "start_time": "2023-07-26T07:09:34.818921300Z"
    }
   }
  },
  {
   "cell_type": "code",
   "execution_count": 120,
   "outputs": [],
   "source": [],
   "metadata": {
    "collapsed": false,
    "ExecuteTime": {
     "end_time": "2023-07-26T07:09:35.443186400Z",
     "start_time": "2023-07-26T07:09:34.834766600Z"
    }
   }
  },
  {
   "cell_type": "code",
   "execution_count": 120,
   "outputs": [],
   "source": [],
   "metadata": {
    "collapsed": false,
    "ExecuteTime": {
     "end_time": "2023-07-26T07:09:35.444283900Z",
     "start_time": "2023-07-26T07:09:34.850834600Z"
    }
   }
  }
 ],
 "metadata": {
  "kernelspec": {
   "display_name": "Python 3",
   "language": "python",
   "name": "python3"
  },
  "language_info": {
   "codemirror_mode": {
    "name": "ipython",
    "version": 2
   },
   "file_extension": ".py",
   "mimetype": "text/x-python",
   "name": "python",
   "nbconvert_exporter": "python",
   "pygments_lexer": "ipython2",
   "version": "2.7.6"
  }
 },
 "nbformat": 4,
 "nbformat_minor": 0
}
