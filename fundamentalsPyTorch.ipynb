{
 "cells": [
  {
   "cell_type": "markdown",
   "source": [
    "![reference image](https://hadrienj.github.io/assets/images/2.1/scalar-vector-matrix-tensor.png)"
   ],
   "metadata": {
    "collapsed": false
   }
  },
  {
   "cell_type": "code",
   "execution_count": null,
   "outputs": [],
   "source": [
    "import torch\n",
    "import pandas as pd\n",
    "import numpy as np"
   ],
   "metadata": {
    "collapsed": false
   }
  },
  {
   "cell_type": "code",
   "execution_count": 4,
   "outputs": [
    {
     "data": {
      "text/plain": "tensor(7)"
     },
     "execution_count": 4,
     "metadata": {},
     "output_type": "execute_result"
    }
   ],
   "source": [
    "#scalar\n",
    "scalar = torch.tensor(7)\n",
    "scalar"
   ],
   "metadata": {
    "collapsed": false,
    "ExecuteTime": {
     "end_time": "2023-07-25T07:41:48.830591100Z",
     "start_time": "2023-07-25T07:41:48.767697Z"
    }
   }
  },
  {
   "cell_type": "code",
   "execution_count": 6,
   "outputs": [
    {
     "data": {
      "text/plain": "0"
     },
     "execution_count": 6,
     "metadata": {},
     "output_type": "execute_result"
    }
   ],
   "source": [
    "scalar.ndim"
   ],
   "metadata": {
    "collapsed": false,
    "ExecuteTime": {
     "end_time": "2023-07-25T07:42:33.401569900Z",
     "start_time": "2023-07-25T07:42:33.334933400Z"
    }
   }
  },
  {
   "cell_type": "code",
   "execution_count": 7,
   "outputs": [
    {
     "data": {
      "text/plain": "7"
     },
     "execution_count": 7,
     "metadata": {},
     "output_type": "execute_result"
    }
   ],
   "source": [
    "#Get tensor back as Python integer\n",
    "scalar.item()"
   ],
   "metadata": {
    "collapsed": false,
    "ExecuteTime": {
     "end_time": "2023-07-25T07:43:33.109420200Z",
     "start_time": "2023-07-25T07:43:33.100271200Z"
    }
   }
  },
  {
   "cell_type": "code",
   "execution_count": 8,
   "outputs": [
    {
     "data": {
      "text/plain": "tensor([7, 7])"
     },
     "execution_count": 8,
     "metadata": {},
     "output_type": "execute_result"
    }
   ],
   "source": [
    "vector = torch.tensor([7,7])\n",
    "vector"
   ],
   "metadata": {
    "collapsed": false,
    "ExecuteTime": {
     "end_time": "2023-07-25T07:44:24.022902400Z",
     "start_time": "2023-07-25T07:44:23.871812200Z"
    }
   }
  },
  {
   "cell_type": "code",
   "execution_count": 9,
   "outputs": [
    {
     "data": {
      "text/plain": "1"
     },
     "execution_count": 9,
     "metadata": {},
     "output_type": "execute_result"
    }
   ],
   "source": [
    "# ndim is number of dimensions\n",
    "vector.ndim"
   ],
   "metadata": {
    "collapsed": false,
    "ExecuteTime": {
     "end_time": "2023-07-25T16:56:57.778859100Z",
     "start_time": "2023-07-25T16:56:57.769764600Z"
    }
   }
  },
  {
   "cell_type": "code",
   "execution_count": 10,
   "outputs": [
    {
     "data": {
      "text/plain": "torch.Size([2])"
     },
     "execution_count": 10,
     "metadata": {},
     "output_type": "execute_result"
    }
   ],
   "source": [
    "vector.shape"
   ],
   "metadata": {
    "collapsed": false,
    "ExecuteTime": {
     "end_time": "2023-07-25T16:58:58.624160200Z",
     "start_time": "2023-07-25T16:58:58.587986100Z"
    }
   }
  },
  {
   "cell_type": "code",
   "execution_count": 11,
   "outputs": [
    {
     "data": {
      "text/plain": "tensor([[5, 6],\n        [3, 4]])"
     },
     "execution_count": 11,
     "metadata": {},
     "output_type": "execute_result"
    }
   ],
   "source": [
    "# Matrix\n",
    "matrix = torch.tensor([[5,6],[3,4]])\n",
    "matrix"
   ],
   "metadata": {
    "collapsed": false,
    "ExecuteTime": {
     "end_time": "2023-07-25T17:00:42.137784100Z",
     "start_time": "2023-07-25T17:00:42.110999900Z"
    }
   }
  },
  {
   "cell_type": "code",
   "execution_count": 12,
   "outputs": [
    {
     "data": {
      "text/plain": "2"
     },
     "execution_count": 12,
     "metadata": {},
     "output_type": "execute_result"
    }
   ],
   "source": [
    "matrix.ndim"
   ],
   "metadata": {
    "collapsed": false,
    "ExecuteTime": {
     "end_time": "2023-07-25T17:01:48.853108100Z",
     "start_time": "2023-07-25T17:01:48.844643300Z"
    }
   }
  },
  {
   "cell_type": "code",
   "execution_count": 13,
   "outputs": [
    {
     "data": {
      "text/plain": "torch.Size([2, 2])"
     },
     "execution_count": 13,
     "metadata": {},
     "output_type": "execute_result"
    }
   ],
   "source": [
    "matrix.shape"
   ],
   "metadata": {
    "collapsed": false,
    "ExecuteTime": {
     "end_time": "2023-07-25T17:02:03.053243300Z",
     "start_time": "2023-07-25T17:02:03.038741400Z"
    }
   }
  },
  {
   "cell_type": "code",
   "execution_count": 21,
   "outputs": [
    {
     "data": {
      "text/plain": "tensor([[[1, 2, 3],\n         [3, 5, 6],\n         [3, 4, 8]],\n\n        [[3, 9, 7],\n         [4, 7, 5],\n         [1, 2, 3]]])"
     },
     "execution_count": 21,
     "metadata": {},
     "output_type": "execute_result"
    }
   ],
   "source": [
    "# Tensor\n",
    "tensor = torch.tensor([[[1,2,3],[3,5,6],[3,4,8]],[[3,9,7],[4,7,5],[1,2,3]]])\n",
    "tensor"
   ],
   "metadata": {
    "collapsed": false,
    "ExecuteTime": {
     "end_time": "2023-07-25T17:05:44.624935600Z",
     "start_time": "2023-07-25T17:05:44.619914400Z"
    }
   }
  },
  {
   "cell_type": "code",
   "execution_count": 22,
   "outputs": [
    {
     "data": {
      "text/plain": "3"
     },
     "execution_count": 22,
     "metadata": {},
     "output_type": "execute_result"
    }
   ],
   "source": [
    "tensor.ndim"
   ],
   "metadata": {
    "collapsed": false,
    "ExecuteTime": {
     "end_time": "2023-07-25T17:05:58.479443400Z",
     "start_time": "2023-07-25T17:05:58.468960700Z"
    }
   }
  },
  {
   "cell_type": "code",
   "execution_count": 23,
   "outputs": [
    {
     "data": {
      "text/plain": "torch.Size([2, 3, 3])"
     },
     "execution_count": 23,
     "metadata": {},
     "output_type": "execute_result"
    }
   ],
   "source": [
    "tensor.shape"
   ],
   "metadata": {
    "collapsed": false,
    "ExecuteTime": {
     "end_time": "2023-07-25T17:06:03.051755900Z",
     "start_time": "2023-07-25T17:06:03.043141700Z"
    }
   }
  },
  {
   "cell_type": "code",
   "execution_count": 24,
   "outputs": [
    {
     "data": {
      "text/plain": "tensor([[1, 2, 3],\n        [3, 5, 6],\n        [3, 4, 8]])"
     },
     "execution_count": 24,
     "metadata": {},
     "output_type": "execute_result"
    }
   ],
   "source": [
    "tensor[0]"
   ],
   "metadata": {
    "collapsed": false,
    "ExecuteTime": {
     "end_time": "2023-07-25T17:08:11.439519700Z",
     "start_time": "2023-07-25T17:08:11.425733800Z"
    }
   }
  },
  {
   "cell_type": "code",
   "execution_count": 25,
   "outputs": [
    {
     "data": {
      "text/plain": "tensor([[0.3951, 0.1169, 0.0232, 0.2959],\n        [0.2254, 0.6417, 0.5325, 0.4821],\n        [0.0996, 0.9306, 0.8601, 0.6633]])"
     },
     "execution_count": 25,
     "metadata": {},
     "output_type": "execute_result"
    }
   ],
   "source": [
    "## Random tensors\n",
    "\n",
    "random_tensor = torch.rand(3,4)\n",
    "random_tensor"
   ],
   "metadata": {
    "collapsed": false,
    "ExecuteTime": {
     "end_time": "2023-07-25T17:24:29.268566200Z",
     "start_time": "2023-07-25T17:24:29.197704700Z"
    }
   }
  },
  {
   "cell_type": "code",
   "execution_count": 27,
   "outputs": [
    {
     "data": {
      "text/plain": "3"
     },
     "execution_count": 27,
     "metadata": {},
     "output_type": "execute_result"
    }
   ],
   "source": [
    "# Random tensor with similar shape to an image tensor\n",
    "random_image_tensor = torch.rand(224,224,3)\n",
    "random_image_tensor.ndim"
   ],
   "metadata": {
    "collapsed": false,
    "ExecuteTime": {
     "end_time": "2023-07-25T17:27:37.884388800Z",
     "start_time": "2023-07-25T17:27:37.866719300Z"
    }
   }
  },
  {
   "cell_type": "code",
   "execution_count": 28,
   "outputs": [
    {
     "data": {
      "text/plain": "torch.Size([224, 224, 3])"
     },
     "execution_count": 28,
     "metadata": {},
     "output_type": "execute_result"
    }
   ],
   "source": [
    "random_image_tensor.shape"
   ],
   "metadata": {
    "collapsed": false,
    "ExecuteTime": {
     "end_time": "2023-07-25T17:27:54.864934300Z",
     "start_time": "2023-07-25T17:27:54.851002800Z"
    }
   }
  },
  {
   "cell_type": "code",
   "execution_count": 29,
   "outputs": [
    {
     "data": {
      "text/plain": "tensor([[0., 0., 0., 0.],\n        [0., 0., 0., 0.],\n        [0., 0., 0., 0.]])"
     },
     "execution_count": 29,
     "metadata": {},
     "output_type": "execute_result"
    }
   ],
   "source": [
    "# Zeros and ones\n",
    "zero = torch.zeros(3,4)\n",
    "zero"
   ],
   "metadata": {
    "collapsed": false,
    "ExecuteTime": {
     "end_time": "2023-07-25T17:33:27.461583200Z",
     "start_time": "2023-07-25T17:33:27.415489Z"
    }
   }
  },
  {
   "cell_type": "code",
   "execution_count": 30,
   "outputs": [
    {
     "data": {
      "text/plain": "tensor([[0., 0., 0., 0.],\n        [0., 0., 0., 0.],\n        [0., 0., 0., 0.]])"
     },
     "execution_count": 30,
     "metadata": {},
     "output_type": "execute_result"
    }
   ],
   "source": [
    "zero*random_tensor"
   ],
   "metadata": {
    "collapsed": false,
    "ExecuteTime": {
     "end_time": "2023-07-25T17:34:05.728447700Z",
     "start_time": "2023-07-25T17:34:05.682496300Z"
    }
   }
  },
  {
   "cell_type": "code",
   "execution_count": 31,
   "outputs": [
    {
     "data": {
      "text/plain": "tensor([[1., 1., 1., 1.],\n        [1., 1., 1., 1.],\n        [1., 1., 1., 1.]])"
     },
     "execution_count": 31,
     "metadata": {},
     "output_type": "execute_result"
    }
   ],
   "source": [
    "one = torch.ones(3,4)\n",
    "one"
   ],
   "metadata": {
    "collapsed": false,
    "ExecuteTime": {
     "end_time": "2023-07-25T17:35:05.757678700Z",
     "start_time": "2023-07-25T17:35:05.742622700Z"
    }
   }
  },
  {
   "cell_type": "code",
   "execution_count": 41,
   "outputs": [
    {
     "data": {
      "text/plain": "tensor([  0,  45,  90, 135, 180, 225, 270, 315, 360, 405, 450, 495])"
     },
     "execution_count": 41,
     "metadata": {},
     "output_type": "execute_result"
    }
   ],
   "source": [
    "# Range of tensors\n",
    "range_tensor = torch.arange(start = 0, end=500, step=45)\n",
    "range_tensor"
   ],
   "metadata": {
    "collapsed": false,
    "ExecuteTime": {
     "end_time": "2023-07-25T17:42:53.095492400Z",
     "start_time": "2023-07-25T17:42:53.086366800Z"
    }
   }
  },
  {
   "cell_type": "code",
   "execution_count": 44,
   "outputs": [
    {
     "data": {
      "text/plain": "tensor([0, 0, 0, 0, 0, 0, 0, 0, 0, 0, 0, 0])"
     },
     "execution_count": 44,
     "metadata": {},
     "output_type": "execute_result"
    }
   ],
   "source": [
    "# Tensors like\n",
    "# Creates a tensor with the same shape as the input tensor\n",
    "zeros = torch.zeros_like(input=range_tensor)\n",
    "zeros"
   ],
   "metadata": {
    "collapsed": false,
    "ExecuteTime": {
     "end_time": "2023-07-25T17:44:15.659574100Z",
     "start_time": "2023-07-25T17:44:15.647547200Z"
    }
   }
  },
  {
   "cell_type": "code",
   "execution_count": 53,
   "outputs": [
    {
     "name": "stdout",
     "output_type": "stream",
     "text": [
      "This is tensor : tensor([3., 5., 4.]), this is datatype : torch.float32\n"
     ]
    }
   ],
   "source": [
    "# Tensor datatypes\n",
    "tensorFloat32 = torch.tensor([3.0,5.0,4.0],dtype=torch.float32,device=None,requires_grad=False)\n",
    "print(f\"This is tensor : {tensorFloat32}, this is datatype : {tensorFloat32.dtype}\")"
   ],
   "metadata": {
    "collapsed": false,
    "ExecuteTime": {
     "end_time": "2023-07-25T18:08:43.240562800Z",
     "start_time": "2023-07-25T18:08:43.215467500Z"
    }
   }
  },
  {
   "cell_type": "code",
   "execution_count": 54,
   "outputs": [
    {
     "data": {
      "text/plain": "tensor([3., 5., 4.], dtype=torch.float16)"
     },
     "execution_count": 54,
     "metadata": {},
     "output_type": "execute_result"
    }
   ],
   "source": [
    "tensorFloat16 = tensorFloat32.type(torch.float16)\n",
    "tensorFloat16"
   ],
   "metadata": {
    "collapsed": false,
    "ExecuteTime": {
     "end_time": "2023-07-25T18:08:44.458952100Z",
     "start_time": "2023-07-25T18:08:44.429290300Z"
    }
   }
  },
  {
   "cell_type": "code",
   "execution_count": 55,
   "outputs": [
    {
     "data": {
      "text/plain": "tensor([ 9., 25., 16.])"
     },
     "execution_count": 55,
     "metadata": {},
     "output_type": "execute_result"
    }
   ],
   "source": [
    "tensorFloat16*tensorFloat32"
   ],
   "metadata": {
    "collapsed": false,
    "ExecuteTime": {
     "end_time": "2023-07-25T18:08:46.478102Z",
     "start_time": "2023-07-25T18:08:46.450301100Z"
    }
   }
  },
  {
   "cell_type": "code",
   "execution_count": 56,
   "outputs": [
    {
     "data": {
      "text/plain": "tensor([3, 4, 5], dtype=torch.int32)"
     },
     "execution_count": 56,
     "metadata": {},
     "output_type": "execute_result"
    }
   ],
   "source": [
    "tensorInt32 = torch.tensor([3,4,5],dtype=torch.int32)\n",
    "tensorInt32"
   ],
   "metadata": {
    "collapsed": false,
    "ExecuteTime": {
     "end_time": "2023-07-25T18:08:47.698144300Z",
     "start_time": "2023-07-25T18:08:47.683335900Z"
    }
   }
  },
  {
   "cell_type": "code",
   "execution_count": 58,
   "outputs": [
    {
     "data": {
      "text/plain": "tensor([ 9., 20., 20.], dtype=torch.float16)"
     },
     "execution_count": 58,
     "metadata": {},
     "output_type": "execute_result"
    }
   ],
   "source": [
    "tensorInt32*tensorFloat16"
   ],
   "metadata": {
    "collapsed": false,
    "ExecuteTime": {
     "end_time": "2023-07-25T18:08:52.439468300Z",
     "start_time": "2023-07-25T18:08:52.412331700Z"
    }
   }
  },
  {
   "cell_type": "code",
   "execution_count": 59,
   "outputs": [
    {
     "data": {
      "text/plain": "tensor([[0.8349, 0.3782, 0.5964, 0.7879],\n        [0.6721, 0.2668, 0.9786, 0.4463],\n        [0.7156, 0.2948, 0.5911, 0.6309]])"
     },
     "execution_count": 59,
     "metadata": {},
     "output_type": "execute_result"
    }
   ],
   "source": [
    "# Solving issues\n",
    "\n",
    "some_tensor = torch.rand(3,4)\n",
    "some_tensor"
   ],
   "metadata": {
    "collapsed": false,
    "ExecuteTime": {
     "end_time": "2023-07-25T18:11:07.999423300Z",
     "start_time": "2023-07-25T18:11:07.971091500Z"
    }
   }
  },
  {
   "cell_type": "code",
   "execution_count": 61,
   "outputs": [
    {
     "name": "stdout",
     "output_type": "stream",
     "text": [
      "tensor([[0.8349, 0.3782, 0.5964, 0.7879],\n",
      "        [0.6721, 0.2668, 0.9786, 0.4463],\n",
      "        [0.7156, 0.2948, 0.5911, 0.6309]])\n",
      "datatype : torch.float32\n",
      "shape : torch.Size([3, 4])\n",
      "device : cpu\n"
     ]
    }
   ],
   "source": [
    "print(some_tensor)\n",
    "print(f\"datatype : {some_tensor.dtype}\")\n",
    "print(f\"shape : {some_tensor.shape}\")\n",
    "print(f\"device : {some_tensor.device}\")"
   ],
   "metadata": {
    "collapsed": false,
    "ExecuteTime": {
     "end_time": "2023-07-25T18:13:17.071043300Z",
     "start_time": "2023-07-25T18:13:17.056827300Z"
    }
   }
  },
  {
   "cell_type": "code",
   "execution_count": 69,
   "outputs": [
    {
     "data": {
      "text/plain": "tensor([11, 12, 13])"
     },
     "execution_count": 69,
     "metadata": {},
     "output_type": "execute_result"
    }
   ],
   "source": [
    "# Tensor operations\n",
    "\n",
    "tensorOp = torch.tensor([1,2,3])\n",
    "tensorOp + 10"
   ],
   "metadata": {
    "collapsed": false,
    "ExecuteTime": {
     "end_time": "2023-07-25T18:17:17.835211300Z",
     "start_time": "2023-07-25T18:17:17.777035200Z"
    }
   }
  },
  {
   "cell_type": "code",
   "execution_count": 71,
   "outputs": [
    {
     "data": {
      "text/plain": "tensor([10, 20, 30])"
     },
     "execution_count": 71,
     "metadata": {},
     "output_type": "execute_result"
    }
   ],
   "source": [
    "tensorOp*10"
   ],
   "metadata": {
    "collapsed": false,
    "ExecuteTime": {
     "end_time": "2023-07-25T18:18:03.626868200Z",
     "start_time": "2023-07-25T18:18:03.610253600Z"
    }
   }
  },
  {
   "cell_type": "code",
   "execution_count": 72,
   "outputs": [
    {
     "data": {
      "text/plain": "tensor([-9, -8, -7])"
     },
     "execution_count": 72,
     "metadata": {},
     "output_type": "execute_result"
    }
   ],
   "source": [
    "tensorOp - 10"
   ],
   "metadata": {
    "collapsed": false,
    "ExecuteTime": {
     "end_time": "2023-07-25T18:19:04.566291Z",
     "start_time": "2023-07-25T18:19:04.548656600Z"
    }
   }
  },
  {
   "cell_type": "code",
   "execution_count": 73,
   "outputs": [
    {
     "data": {
      "text/plain": "tensor([10, 20, 30])"
     },
     "execution_count": 73,
     "metadata": {},
     "output_type": "execute_result"
    }
   ],
   "source": [
    "torch.mul(tensorOp,10)"
   ],
   "metadata": {
    "collapsed": false,
    "ExecuteTime": {
     "end_time": "2023-07-25T18:19:30.462933200Z",
     "start_time": "2023-07-25T18:19:30.416367600Z"
    }
   }
  },
  {
   "cell_type": "code",
   "execution_count": 75,
   "outputs": [
    {
     "data": {
      "text/plain": "tensor([11, 12, 13])"
     },
     "execution_count": 75,
     "metadata": {},
     "output_type": "execute_result"
    }
   ],
   "source": [
    "torch.add(tensorOp,10)"
   ],
   "metadata": {
    "collapsed": false,
    "ExecuteTime": {
     "end_time": "2023-07-25T18:20:05.493973800Z",
     "start_time": "2023-07-25T18:20:05.446658400Z"
    }
   }
  },
  {
   "cell_type": "code",
   "execution_count": 46,
   "outputs": [
    {
     "name": "stdout",
     "output_type": "stream",
     "text": [
      "[[0 0]\n",
      " [0 0]]\n",
      "[[ 58  64]\n",
      " [139 154]]\n"
     ]
    }
   ],
   "source": [
    "# Matrix multiplication or Dot product of matrix\n",
    "# Doing matrix multiplication with code without pytorch\n",
    "\n",
    "matrixA = ([[1,2,3],[4,5,6]])\n",
    "matrixB = ([[7,8],[9,10],[11,12]])\n",
    "\n",
    "matrixC = np.zeros([2, 2], dtype=int)\n",
    "\n",
    "print(matrixC)\n",
    "for i in range(2):\n",
    "    for j in range(2):\n",
    "        for x in range(3):\n",
    "            matrixC[i][j]+=matrixA[i][x] * matrixB[x][j]\n",
    "\n",
    "print(matrixC)"
   ],
   "metadata": {
    "collapsed": false,
    "ExecuteTime": {
     "end_time": "2023-07-26T07:05:26.853368400Z",
     "start_time": "2023-07-26T07:05:26.832505800Z"
    }
   }
  },
  {
   "cell_type": "code",
   "execution_count": 138,
   "outputs": [
    {
     "data": {
      "text/plain": "tensor([ 0, 10, 20, 30, 40, 50, 60, 70, 80, 90])"
     },
     "execution_count": 138,
     "metadata": {},
     "output_type": "execute_result"
    }
   ],
   "source": [
    "# Finding position where min or max occur at\n",
    "x = torch.arange(0,100,10)\n",
    "x"
   ],
   "metadata": {
    "collapsed": false,
    "ExecuteTime": {
     "end_time": "2023-07-26T07:49:13.866164600Z",
     "start_time": "2023-07-26T07:49:13.797161600Z"
    }
   }
  },
  {
   "cell_type": "code",
   "execution_count": 139,
   "outputs": [
    {
     "data": {
      "text/plain": "(tensor(90), 9)"
     },
     "execution_count": 139,
     "metadata": {},
     "output_type": "execute_result"
    }
   ],
   "source": [
    "index = 0\n",
    "max = x[0]\n",
    "for i in range(1,len(x)):\n",
    "    if(x[i]>max):\n",
    "        max = x[i]\n",
    "        index = i\n",
    "\n",
    "max, index"
   ],
   "metadata": {
    "collapsed": false,
    "ExecuteTime": {
     "end_time": "2023-07-26T07:50:45.075256900Z",
     "start_time": "2023-07-26T07:50:44.954173100Z"
    }
   }
  },
  {
   "cell_type": "code",
   "execution_count": 140,
   "outputs": [
    {
     "data": {
      "text/plain": "(tensor(0), 0)"
     },
     "execution_count": 140,
     "metadata": {},
     "output_type": "execute_result"
    }
   ],
   "source": [
    "index = 0\n",
    "min = x[0]\n",
    "for i in range(1,len(x)):\n",
    "    if(x[i]<min):\n",
    "        min = x[i]\n",
    "        index = i\n",
    "\n",
    "min, index"
   ],
   "metadata": {
    "collapsed": false,
    "ExecuteTime": {
     "end_time": "2023-07-26T07:52:00.127135900Z",
     "start_time": "2023-07-26T07:52:00.060382100Z"
    }
   }
  },
  {
   "cell_type": "code",
   "execution_count": 142,
   "outputs": [],
   "source": [
    "tensor_temp = torch.tensor([2,5,3,7,8,1])"
   ],
   "metadata": {
    "collapsed": false,
    "ExecuteTime": {
     "end_time": "2023-07-26T07:52:38.318165600Z",
     "start_time": "2023-07-26T07:52:38.309210800Z"
    }
   }
  },
  {
   "cell_type": "code",
   "execution_count": 143,
   "outputs": [
    {
     "data": {
      "text/plain": "(tensor(8), 4)"
     },
     "execution_count": 143,
     "metadata": {},
     "output_type": "execute_result"
    }
   ],
   "source": [
    "index = 0\n",
    "max = tensor_temp[0]\n",
    "for i in range(1,len(tensor_temp)):\n",
    "    if(tensor_temp[i]>max):\n",
    "        max = tensor_temp[i]\n",
    "        index = i\n",
    "\n",
    "max, index"
   ],
   "metadata": {
    "collapsed": false,
    "ExecuteTime": {
     "end_time": "2023-07-26T07:53:34.999498300Z",
     "start_time": "2023-07-26T07:53:34.944599700Z"
    }
   }
  },
  {
   "cell_type": "code",
   "execution_count": 144,
   "outputs": [
    {
     "data": {
      "text/plain": "(tensor(1), 5)"
     },
     "execution_count": 144,
     "metadata": {},
     "output_type": "execute_result"
    }
   ],
   "source": [
    "index = 0\n",
    "min = tensor_temp[0]\n",
    "for i in range(1,len(tensor_temp)):\n",
    "    if(tensor_temp[i]<min):\n",
    "        min = tensor_temp[i]\n",
    "        index = i\n",
    "\n",
    "min, index"
   ],
   "metadata": {
    "collapsed": false,
    "ExecuteTime": {
     "end_time": "2023-07-26T07:54:35.808197500Z",
     "start_time": "2023-07-26T07:54:35.756154Z"
    }
   }
  },
  {
   "cell_type": "code",
   "execution_count": 214,
   "outputs": [
    {
     "name": "stdout",
     "output_type": "stream",
     "text": [
      "x_org.shape = torch.Size([5, 5, 2])\n",
      "x_permute.shape = torch.Size([2, 5, 5])\n"
     ]
    }
   ],
   "source": [
    "# Permute\n",
    "\n",
    "x_org = torch.rand(size = (5,5,2))\n",
    "\n",
    "x_permute = x_org.permute(2,0,1)\n",
    "\n",
    "print(f\"x_org.shape = {x_org.shape}\")\n",
    "print(f\"x_permute.shape = {x_permute.shape}\")"
   ],
   "metadata": {
    "collapsed": false,
    "ExecuteTime": {
     "end_time": "2023-07-26T17:35:29.475242900Z",
     "start_time": "2023-07-26T17:35:29.465903700Z"
    }
   }
  },
  {
   "cell_type": "code",
   "execution_count": 216,
   "outputs": [
    {
     "data": {
      "text/plain": "tensor([[[0.1527, 0.6018],\n         [0.9657, 0.9045],\n         [0.2745, 0.9725],\n         [0.2225, 0.8949],\n         [0.7725, 0.2470]],\n\n        [[0.4304, 0.0997],\n         [0.6504, 0.5511],\n         [0.3344, 0.0277],\n         [0.0132, 0.3109],\n         [0.9377, 0.5301]],\n\n        [[0.7704, 0.9918],\n         [0.5780, 0.2027],\n         [0.4881, 0.9383],\n         [0.5685, 0.3876],\n         [0.8233, 0.9050]],\n\n        [[0.2296, 0.1730],\n         [0.1997, 0.9033],\n         [0.3445, 0.0651],\n         [0.6621, 0.8772],\n         [0.0442, 0.8453]],\n\n        [[0.9325, 0.2996],\n         [0.6882, 0.3173],\n         [0.6649, 0.5578],\n         [0.9228, 0.8688],\n         [0.9772, 0.5964]]])"
     },
     "execution_count": 216,
     "metadata": {},
     "output_type": "execute_result"
    }
   ],
   "source": [
    "x_org"
   ],
   "metadata": {
    "collapsed": false,
    "ExecuteTime": {
     "end_time": "2023-07-26T17:35:56.268207100Z",
     "start_time": "2023-07-26T17:35:56.240038100Z"
    }
   }
  },
  {
   "cell_type": "code",
   "execution_count": 218,
   "outputs": [
    {
     "data": {
      "text/plain": "tensor([[[0.1527, 0.9657, 0.2745, 0.2225, 0.7725],\n         [0.4304, 0.6504, 0.3344, 0.0132, 0.9377],\n         [0.7704, 0.5780, 0.4881, 0.5685, 0.8233],\n         [0.2296, 0.1997, 0.3445, 0.6621, 0.0442],\n         [0.9325, 0.6882, 0.6649, 0.9228, 0.9772]],\n\n        [[0.6018, 0.9045, 0.9725, 0.8949, 0.2470],\n         [0.0997, 0.5511, 0.0277, 0.3109, 0.5301],\n         [0.9918, 0.2027, 0.9383, 0.3876, 0.9050],\n         [0.1730, 0.9033, 0.0651, 0.8772, 0.8453],\n         [0.2996, 0.3173, 0.5578, 0.8688, 0.5964]]])"
     },
     "execution_count": 218,
     "metadata": {},
     "output_type": "execute_result"
    }
   ],
   "source": [
    "x_permute"
   ],
   "metadata": {
    "collapsed": false,
    "ExecuteTime": {
     "end_time": "2023-07-26T17:37:08.321858400Z",
     "start_time": "2023-07-26T17:37:08.273313400Z"
    }
   }
  },
  {
   "cell_type": "code",
   "execution_count": 231,
   "outputs": [
    {
     "data": {
      "text/plain": "tensor([5., 5., 5., 5., 5.])"
     },
     "execution_count": 231,
     "metadata": {},
     "output_type": "execute_result"
    }
   ],
   "source": [
    "x_permute[0,:,1] = 5.\n",
    "x_permute[0,:,1]"
   ],
   "metadata": {
    "collapsed": false,
    "ExecuteTime": {
     "end_time": "2023-07-26T17:42:52.163313200Z",
     "start_time": "2023-07-26T17:42:52.124297800Z"
    }
   }
  },
  {
   "cell_type": "code",
   "execution_count": 233,
   "outputs": [
    {
     "data": {
      "text/plain": "tensor([[[0.1527, 0.6018],\n         [5.0000, 0.9045],\n         [0.2745, 0.9725],\n         [0.2225, 0.8949],\n         [0.7725, 0.2470]],\n\n        [[0.4304, 0.0997],\n         [5.0000, 0.5511],\n         [0.3344, 0.0277],\n         [0.0132, 0.3109],\n         [0.9377, 0.5301]],\n\n        [[0.7704, 0.9918],\n         [5.0000, 0.2027],\n         [0.4881, 0.9383],\n         [0.5685, 0.3876],\n         [0.8233, 0.9050]],\n\n        [[0.2296, 0.1730],\n         [5.0000, 0.9033],\n         [0.3445, 0.0651],\n         [0.6621, 0.8772],\n         [0.0442, 0.8453]],\n\n        [[0.9325, 0.2996],\n         [5.0000, 0.3173],\n         [0.6649, 0.5578],\n         [0.9228, 0.8688],\n         [0.9772, 0.5964]]])"
     },
     "execution_count": 233,
     "metadata": {},
     "output_type": "execute_result"
    }
   ],
   "source": [
    "x_org\n",
    "\n",
    "\n",
    "## Permute understood"
   ],
   "metadata": {
    "collapsed": false,
    "ExecuteTime": {
     "end_time": "2023-07-26T17:44:02.804228600Z",
     "start_time": "2023-07-26T17:44:02.782206700Z"
    }
   }
  }
 ],
 "metadata": {
  "kernelspec": {
   "display_name": "Python 3",
   "language": "python",
   "name": "python3"
  },
  "language_info": {
   "codemirror_mode": {
    "name": "ipython",
    "version": 2
   },
   "file_extension": ".py",
   "mimetype": "text/x-python",
   "name": "python",
   "nbconvert_exporter": "python",
   "pygments_lexer": "ipython2",
   "version": "2.7.6"
  }
 },
 "nbformat": 4,
 "nbformat_minor": 0
}
